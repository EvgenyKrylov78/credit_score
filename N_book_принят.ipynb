{
  "cells": [
    {
      "cell_type": "markdown",
      "metadata": {
        "id": "view-in-github",
        "colab_type": "text"
      },
      "source": [
        "<a href=\"https://colab.research.google.com/github/EvgenyKrylov78/credit_score/blob/main/N_book_%D0%BF%D1%80%D0%B8%D0%BD%D1%8F%D1%82.ipynb\" target=\"_parent\"><img src=\"https://colab.research.google.com/assets/colab-badge.svg\" alt=\"Open In Colab\"/></a>"
      ]
    },
    {
      "cell_type": "markdown",
      "metadata": {
        "id": "XWhCPBXt9Kui"
      },
      "source": [
        "# Review\n",
        "\n",
        "Re: Привет, Роман!\n",
        "\n",
        "    Отправляю исправленное.\n",
        "    Спасибо за поддержку!\n",
        "\n",
        "\n",
        "Привет, Евгений. Меня зовут Роман, я буду проверять твой проект.\n",
        "\n",
        "Если не против, я буду вести общение \"на ты\".\n",
        "\n",
        "Ты сможешь найти мои комментарии к коду в разноцветных ячейках как эти:\n",
        "\n",
        "<div class=\"alert alert-success\">\n",
        "    Если все отлично\n",
        "</div>\n",
        "\n",
        "<div class=\"alert alert-warning\">\n",
        "    Если у меня есть некие предложения и рекомендации\n",
        "</div>\n",
        "\n",
        "<div class=\"alert alert-danger\">\n",
        "    Если присутствуют неточности, которые следует исправить\n",
        "</div>\n",
        "\n",
        "Пожалуйста, не удаляй мои коментарии. Если тебе захочется в последующем оставить свои коментарии на мои замечания, то ты можешь их **<font color=\"orange\">выделить цветом</font>**  или **жирным шрифтом** , так будет проще отследить все наши с тобой правки в проекте.\n",
        "\n",
        "# <font color=\"orange\">Результат ревью:</font>\n",
        "Прежде всего спасибо что выполнил все части проекта и прислал его нам.  \n",
        "Ты проделал большую работу!  \n",
        "Не смотря на то, что в в проекте есть несколько красных комментариев означающих, что там есть что поправить, твоя работа, на самом деле, выглядит достойно!  \n",
        "Уверен, что тебе удастся быстро поправить проект, и я обязательно его приму.  \n",
        "Желаю удачи!\n"
      ]
    },
    {
      "cell_type": "markdown",
      "metadata": {
        "id": "jVAATueO9Kur"
      },
      "source": [
        "# <font color=\"orange\">Результат ревью 2:</font>\n",
        "Евгений, привет!  \n",
        "Проект принят. Поздравляю!  \n",
        "Желаю удачи в наступившем 21 году и успехов на следующих спринтах."
      ]
    },
    {
      "cell_type": "markdown",
      "metadata": {
        "id": "d7tamFPe9Kus"
      },
      "source": [
        "## Исследование надёжности заёмщиков\n",
        "\n",
        "Заказчик — кредитный отдел банка. Нужно разобраться, влияет ли семейное положение и количество детей клиента на факт погашения кредита в срок. Входные данные от банка — статистика о платёжеспособности клиентов.\n",
        "\n",
        "Результаты исследования будут учтены при построении модели **кредитного скоринга** — специальной системы, которая оценивает способность потенциального заёмщика вернуть кредит банку."
      ]
    },
    {
      "cell_type": "markdown",
      "metadata": {
        "id": "xMxXS6K69Kut"
      },
      "source": [
        "### Шаг 1. Изучение общей информации. "
      ]
    },
    {
      "cell_type": "code",
      "execution_count": null,
      "metadata": {
        "id": "lMoZaQR49Kuu"
      },
      "outputs": [],
      "source": [
        "import pandas as pd"
      ]
    },
    {
      "cell_type": "code",
      "execution_count": null,
      "metadata": {
        "id": "1z8ipOct9Kuv"
      },
      "outputs": [],
      "source": [
        "df = pd.read_csv('/datasets/data.csv')"
      ]
    },
    {
      "cell_type": "code",
      "execution_count": null,
      "metadata": {
        "id": "myNnOXXa9Kuw",
        "outputId": "4de2f525-bbce-4ee3-adf7-f18dfaf0030a"
      },
      "outputs": [
        {
          "data": {
            "text/html": [
              "<div>\n",
              "<style scoped>\n",
              "    .dataframe tbody tr th:only-of-type {\n",
              "        vertical-align: middle;\n",
              "    }\n",
              "\n",
              "    .dataframe tbody tr th {\n",
              "        vertical-align: top;\n",
              "    }\n",
              "\n",
              "    .dataframe thead th {\n",
              "        text-align: right;\n",
              "    }\n",
              "</style>\n",
              "<table border=\"1\" class=\"dataframe\">\n",
              "  <thead>\n",
              "    <tr style=\"text-align: right;\">\n",
              "      <th></th>\n",
              "      <th>children</th>\n",
              "      <th>days_employed</th>\n",
              "      <th>dob_years</th>\n",
              "      <th>education</th>\n",
              "      <th>education_id</th>\n",
              "      <th>family_status</th>\n",
              "      <th>family_status_id</th>\n",
              "      <th>gender</th>\n",
              "      <th>income_type</th>\n",
              "      <th>debt</th>\n",
              "      <th>total_income</th>\n",
              "      <th>purpose</th>\n",
              "    </tr>\n",
              "  </thead>\n",
              "  <tbody>\n",
              "    <tr>\n",
              "      <td>0</td>\n",
              "      <td>1</td>\n",
              "      <td>-8437.673028</td>\n",
              "      <td>42</td>\n",
              "      <td>высшее</td>\n",
              "      <td>0</td>\n",
              "      <td>женат / замужем</td>\n",
              "      <td>0</td>\n",
              "      <td>F</td>\n",
              "      <td>сотрудник</td>\n",
              "      <td>0</td>\n",
              "      <td>253875.639453</td>\n",
              "      <td>покупка жилья</td>\n",
              "    </tr>\n",
              "    <tr>\n",
              "      <td>1</td>\n",
              "      <td>1</td>\n",
              "      <td>-4024.803754</td>\n",
              "      <td>36</td>\n",
              "      <td>среднее</td>\n",
              "      <td>1</td>\n",
              "      <td>женат / замужем</td>\n",
              "      <td>0</td>\n",
              "      <td>F</td>\n",
              "      <td>сотрудник</td>\n",
              "      <td>0</td>\n",
              "      <td>112080.014102</td>\n",
              "      <td>приобретение автомобиля</td>\n",
              "    </tr>\n",
              "    <tr>\n",
              "      <td>2</td>\n",
              "      <td>0</td>\n",
              "      <td>-5623.422610</td>\n",
              "      <td>33</td>\n",
              "      <td>Среднее</td>\n",
              "      <td>1</td>\n",
              "      <td>женат / замужем</td>\n",
              "      <td>0</td>\n",
              "      <td>M</td>\n",
              "      <td>сотрудник</td>\n",
              "      <td>0</td>\n",
              "      <td>145885.952297</td>\n",
              "      <td>покупка жилья</td>\n",
              "    </tr>\n",
              "    <tr>\n",
              "      <td>3</td>\n",
              "      <td>3</td>\n",
              "      <td>-4124.747207</td>\n",
              "      <td>32</td>\n",
              "      <td>среднее</td>\n",
              "      <td>1</td>\n",
              "      <td>женат / замужем</td>\n",
              "      <td>0</td>\n",
              "      <td>M</td>\n",
              "      <td>сотрудник</td>\n",
              "      <td>0</td>\n",
              "      <td>267628.550329</td>\n",
              "      <td>дополнительное образование</td>\n",
              "    </tr>\n",
              "    <tr>\n",
              "      <td>4</td>\n",
              "      <td>0</td>\n",
              "      <td>340266.072047</td>\n",
              "      <td>53</td>\n",
              "      <td>среднее</td>\n",
              "      <td>1</td>\n",
              "      <td>гражданский брак</td>\n",
              "      <td>1</td>\n",
              "      <td>F</td>\n",
              "      <td>пенсионер</td>\n",
              "      <td>0</td>\n",
              "      <td>158616.077870</td>\n",
              "      <td>сыграть свадьбу</td>\n",
              "    </tr>\n",
              "  </tbody>\n",
              "</table>\n",
              "</div>"
            ],
            "text/plain": [
              "   children  days_employed  dob_years education  education_id  \\\n",
              "0         1   -8437.673028         42    высшее             0   \n",
              "1         1   -4024.803754         36   среднее             1   \n",
              "2         0   -5623.422610         33   Среднее             1   \n",
              "3         3   -4124.747207         32   среднее             1   \n",
              "4         0  340266.072047         53   среднее             1   \n",
              "\n",
              "      family_status  family_status_id gender income_type  debt   total_income  \\\n",
              "0   женат / замужем                 0      F   сотрудник     0  253875.639453   \n",
              "1   женат / замужем                 0      F   сотрудник     0  112080.014102   \n",
              "2   женат / замужем                 0      M   сотрудник     0  145885.952297   \n",
              "3   женат / замужем                 0      M   сотрудник     0  267628.550329   \n",
              "4  гражданский брак                 1      F   пенсионер     0  158616.077870   \n",
              "\n",
              "                      purpose  \n",
              "0               покупка жилья  \n",
              "1     приобретение автомобиля  \n",
              "2               покупка жилья  \n",
              "3  дополнительное образование  \n",
              "4             сыграть свадьбу  "
            ]
          },
          "execution_count": 3,
          "metadata": {},
          "output_type": "execute_result"
        }
      ],
      "source": [
        "df.head()"
      ]
    },
    {
      "cell_type": "markdown",
      "metadata": {
        "id": "SyjmAsXb9Kux"
      },
      "source": [
        "<div class=\"alert alert-warning\">\n",
        "\n",
        "### Комментарий ревьюера\n",
        "\n",
        "смотреть на табличку удобнее так\n",
        "\n",
        "        df.head()\n",
        "    \n",
        "или так\n",
        "\n",
        "        display(df.head())\n",
        "</div>"
      ]
    },
    {
      "cell_type": "code",
      "execution_count": null,
      "metadata": {
        "id": "jI8T9Vmc9Kuy",
        "outputId": "da5307d8-161c-4d71-8135-7b317cf97e55"
      },
      "outputs": [
        {
          "name": "stdout",
          "output_type": "stream",
          "text": [
            "<class 'pandas.core.frame.DataFrame'>\n",
            "RangeIndex: 21525 entries, 0 to 21524\n",
            "Data columns (total 12 columns):\n",
            "children            21525 non-null int64\n",
            "days_employed       19351 non-null float64\n",
            "dob_years           21525 non-null int64\n",
            "education           21525 non-null object\n",
            "education_id        21525 non-null int64\n",
            "family_status       21525 non-null object\n",
            "family_status_id    21525 non-null int64\n",
            "gender              21525 non-null object\n",
            "income_type         21525 non-null object\n",
            "debt                21525 non-null int64\n",
            "total_income        19351 non-null float64\n",
            "purpose             21525 non-null object\n",
            "dtypes: float64(2), int64(5), object(5)\n",
            "memory usage: 2.0+ MB\n"
          ]
        }
      ],
      "source": [
        "df.info()"
      ]
    },
    {
      "cell_type": "code",
      "execution_count": null,
      "metadata": {
        "scrolled": true,
        "id": "2nlY-R-t9Kuz",
        "outputId": "921ed944-fb72-4f88-b9ea-e8c7af176b5a"
      },
      "outputs": [
        {
          "data": {
            "text/html": [
              "<div>\n",
              "<style scoped>\n",
              "    .dataframe tbody tr th:only-of-type {\n",
              "        vertical-align: middle;\n",
              "    }\n",
              "\n",
              "    .dataframe tbody tr th {\n",
              "        vertical-align: top;\n",
              "    }\n",
              "\n",
              "    .dataframe thead th {\n",
              "        text-align: right;\n",
              "    }\n",
              "</style>\n",
              "<table border=\"1\" class=\"dataframe\">\n",
              "  <thead>\n",
              "    <tr style=\"text-align: right;\">\n",
              "      <th></th>\n",
              "      <th>children</th>\n",
              "      <th>days_employed</th>\n",
              "      <th>dob_years</th>\n",
              "      <th>education_id</th>\n",
              "      <th>family_status_id</th>\n",
              "      <th>debt</th>\n",
              "      <th>total_income</th>\n",
              "    </tr>\n",
              "  </thead>\n",
              "  <tbody>\n",
              "    <tr>\n",
              "      <td>count</td>\n",
              "      <td>21525</td>\n",
              "      <td>19351</td>\n",
              "      <td>21525</td>\n",
              "      <td>21525</td>\n",
              "      <td>21525</td>\n",
              "      <td>21525</td>\n",
              "      <td>19351</td>\n",
              "    </tr>\n",
              "    <tr>\n",
              "      <td>mean</td>\n",
              "      <td>0</td>\n",
              "      <td>63046</td>\n",
              "      <td>43</td>\n",
              "      <td>0</td>\n",
              "      <td>0</td>\n",
              "      <td>0</td>\n",
              "      <td>167422</td>\n",
              "    </tr>\n",
              "    <tr>\n",
              "      <td>std</td>\n",
              "      <td>1</td>\n",
              "      <td>140827</td>\n",
              "      <td>12</td>\n",
              "      <td>0</td>\n",
              "      <td>1</td>\n",
              "      <td>0</td>\n",
              "      <td>102971</td>\n",
              "    </tr>\n",
              "    <tr>\n",
              "      <td>min</td>\n",
              "      <td>-1</td>\n",
              "      <td>-18388</td>\n",
              "      <td>0</td>\n",
              "      <td>0</td>\n",
              "      <td>0</td>\n",
              "      <td>0</td>\n",
              "      <td>20667</td>\n",
              "    </tr>\n",
              "    <tr>\n",
              "      <td>25%</td>\n",
              "      <td>0</td>\n",
              "      <td>-2747</td>\n",
              "      <td>33</td>\n",
              "      <td>1</td>\n",
              "      <td>0</td>\n",
              "      <td>0</td>\n",
              "      <td>103053</td>\n",
              "    </tr>\n",
              "    <tr>\n",
              "      <td>50%</td>\n",
              "      <td>0</td>\n",
              "      <td>-1203</td>\n",
              "      <td>42</td>\n",
              "      <td>1</td>\n",
              "      <td>0</td>\n",
              "      <td>0</td>\n",
              "      <td>145017</td>\n",
              "    </tr>\n",
              "    <tr>\n",
              "      <td>75%</td>\n",
              "      <td>1</td>\n",
              "      <td>-291</td>\n",
              "      <td>53</td>\n",
              "      <td>1</td>\n",
              "      <td>1</td>\n",
              "      <td>0</td>\n",
              "      <td>203435</td>\n",
              "    </tr>\n",
              "    <tr>\n",
              "      <td>max</td>\n",
              "      <td>20</td>\n",
              "      <td>401755</td>\n",
              "      <td>75</td>\n",
              "      <td>4</td>\n",
              "      <td>4</td>\n",
              "      <td>1</td>\n",
              "      <td>2265604</td>\n",
              "    </tr>\n",
              "  </tbody>\n",
              "</table>\n",
              "</div>"
            ],
            "text/plain": [
              "       children  days_employed  dob_years  education_id  family_status_id  \\\n",
              "count     21525          19351      21525         21525             21525   \n",
              "mean          0          63046         43             0                 0   \n",
              "std           1         140827         12             0                 1   \n",
              "min          -1         -18388          0             0                 0   \n",
              "25%           0          -2747         33             1                 0   \n",
              "50%           0          -1203         42             1                 0   \n",
              "75%           1           -291         53             1                 1   \n",
              "max          20         401755         75             4                 4   \n",
              "\n",
              "        debt  total_income  \n",
              "count  21525         19351  \n",
              "mean       0        167422  \n",
              "std        0        102971  \n",
              "min        0         20667  \n",
              "25%        0        103053  \n",
              "50%        0        145017  \n",
              "75%        0        203435  \n",
              "max        1       2265604  "
            ]
          },
          "execution_count": 5,
          "metadata": {},
          "output_type": "execute_result"
        }
      ],
      "source": [
        "df.describe().astype(int)"
      ]
    },
    {
      "cell_type": "markdown",
      "metadata": {
        "id": "tT9pPEGL9Ku0"
      },
      "source": [
        "Исследуем содержание, типы данных и факт заполнения важных для анализа столбцов: debt, children, family_status, total_income, purpose.\n",
        "\n",
        "1. Пропущены значения total_income (доход).\n",
        "2. children обратить внимание на минимальное значение \"-1\" и максимальное \"20\".\n",
        "3. dob_years возраст не может быть \"0\" - обратить внимание. \n",
        "4. days_employed: а) отрицательное количество дней трудового стажа  (эти данные не участвуют в текущем анализе); б) Также макимальное значение выхоодит за пределы разумного (проанализировать вехний диапазон, данные должны быть в годах). Причиной является ошибка заполнения, надо понять на что поменять; в) пустоты - чем заполнить?. "
      ]
    },
    {
      "cell_type": "code",
      "execution_count": null,
      "metadata": {
        "id": "JDuuvIkX9Ku0",
        "outputId": "26092d82-7660-4fb2-fe00-325a2775c26d"
      },
      "outputs": [
        {
          "data": {
            "text/plain": [
              "('Значения по состоянию задолженности', array([0, 1]))"
            ]
          },
          "execution_count": 6,
          "metadata": {},
          "output_type": "execute_result"
        }
      ],
      "source": [
        "'Значения по состоянию задолженности', df['debt'].unique()"
      ]
    },
    {
      "cell_type": "markdown",
      "metadata": {
        "id": "ix7O-WQ99Ku1"
      },
      "source": [
        "Значние \"1\" соответствует просроченным обязательствам. "
      ]
    },
    {
      "cell_type": "code",
      "execution_count": null,
      "metadata": {
        "id": "s0XN_wX_9Ku1",
        "outputId": "cbf64ec1-7361-4c12-ed34-99023e6b78dd"
      },
      "outputs": [
        {
          "data": {
            "text/plain": [
              "'Просрочников: 8.1%'"
            ]
          },
          "execution_count": 7,
          "metadata": {},
          "output_type": "execute_result"
        }
      ],
      "source": [
        "'Просрочников: {:.1%}'.format(df['debt'].mean())"
      ]
    },
    {
      "cell_type": "code",
      "execution_count": null,
      "metadata": {
        "id": "69l2_vMx9Ku2",
        "outputId": "f4be024a-f025-458b-a6c3-3a31a2aa2fed"
      },
      "outputs": [
        {
          "data": {
            "text/plain": [
              "('Значения по кол-ву детей у заемщика',\n",
              " array([ 1,  0,  3,  2, -1,  4, 20,  5]))"
            ]
          },
          "execution_count": 8,
          "metadata": {},
          "output_type": "execute_result"
        }
      ],
      "source": [
        "('Значения по кол-ву детей у заемщика',\n",
        "df['children'].unique())"
      ]
    },
    {
      "cell_type": "markdown",
      "metadata": {
        "id": "lEBAQe5P9Ku2"
      },
      "source": [
        "Артефакт: значения должны быть >=0, понять на что менять"
      ]
    },
    {
      "cell_type": "code",
      "execution_count": null,
      "metadata": {
        "id": "K17cNKLX9Ku2",
        "outputId": "f009c255-99f0-47e4-ed58-4e6519783240"
      },
      "outputs": [
        {
          "data": {
            "text/plain": [
              " 0     14149\n",
              " 1      4818\n",
              " 2      2055\n",
              " 3       330\n",
              " 20       76\n",
              "-1        47\n",
              " 4        41\n",
              " 5         9\n",
              "Name: children, dtype: int64"
            ]
          },
          "execution_count": 9,
          "metadata": {},
          "output_type": "execute_result"
        }
      ],
      "source": [
        "df['children'].value_counts()"
      ]
    },
    {
      "cell_type": "markdown",
      "metadata": {
        "id": "8SoyAZ819Ku3"
      },
      "source": [
        "Минус 1 значение заменю на 1 (предположу, что введен лишний знак), <font color=\"orange\">остальные значения остаются как есть</font>"
      ]
    },
    {
      "cell_type": "markdown",
      "metadata": {
        "id": "8S-SDgdW9Ku3"
      },
      "source": [
        "<div class=\"alert alert-danger\">\n",
        "\n",
        "### Комментарий ревьюера\n",
        "\n",
        "Нет, для банка важно именно количество. Между семьей с 1 ребенком и с 3-мя детьми - целая финансовая пропасть\n",
        "</div>"
      ]
    },
    {
      "cell_type": "markdown",
      "metadata": {
        "id": "uuC_mCJF9Ku3"
      },
      "source": [
        "<div class=\"alert alert-success\">\n",
        "\n",
        "### Комментарий ревьюера 2\n",
        "\n",
        "Супер\n",
        "</div>"
      ]
    },
    {
      "cell_type": "code",
      "execution_count": null,
      "metadata": {
        "id": "9CWA7Zz29Ku4",
        "outputId": "6165d726-bff2-494a-9273-c721fc9686cf"
      },
      "outputs": [
        {
          "data": {
            "text/plain": [
              "array(['женат / замужем', 'гражданский брак', 'вдовец / вдова',\n",
              "       'в разводе', 'Не женат / не замужем'], dtype=object)"
            ]
          },
          "execution_count": 10,
          "metadata": {},
          "output_type": "execute_result"
        }
      ],
      "source": [
        "df['family_status'].unique()"
      ]
    },
    {
      "cell_type": "markdown",
      "metadata": {
        "id": "yra10-659Ku4"
      },
      "source": [
        "Данные в порядке - пять чётких групп"
      ]
    },
    {
      "cell_type": "code",
      "execution_count": null,
      "metadata": {
        "id": "9x4Nu5vc9Ku4",
        "outputId": "07ca6d32-ffcd-4d90-984f-2050f0b0087e"
      },
      "outputs": [
        {
          "data": {
            "text/plain": [
              "array([253875.6394526 , 112080.01410244, 145885.95229686, ...,\n",
              "        89672.56115303, 244093.05050043,  82047.41889948])"
            ]
          },
          "execution_count": 11,
          "metadata": {},
          "output_type": "execute_result"
        }
      ],
      "source": [
        "df['total_income'].unique()"
      ]
    },
    {
      "cell_type": "markdown",
      "metadata": {
        "id": "6SLokS5U9Ku5"
      },
      "source": [
        "Требуется группировка после заполнения пропусков"
      ]
    },
    {
      "cell_type": "code",
      "execution_count": null,
      "metadata": {
        "id": "ERf7lX5d9Ku5",
        "outputId": "35fb32e5-6476-48aa-f637-93a23469b006"
      },
      "outputs": [
        {
          "data": {
            "text/plain": [
              "array(['покупка жилья', 'приобретение автомобиля',\n",
              "       'дополнительное образование', 'сыграть свадьбу',\n",
              "       'операции с жильем', 'образование', 'на проведение свадьбы',\n",
              "       'покупка жилья для семьи', 'покупка недвижимости',\n",
              "       'покупка коммерческой недвижимости', 'покупка жилой недвижимости',\n",
              "       'строительство собственной недвижимости', 'недвижимость',\n",
              "       'строительство недвижимости', 'на покупку подержанного автомобиля',\n",
              "       'на покупку своего автомобиля',\n",
              "       'операции с коммерческой недвижимостью',\n",
              "       'строительство жилой недвижимости', 'жилье',\n",
              "       'операции со своей недвижимостью', 'автомобили',\n",
              "       'заняться образованием', 'сделка с подержанным автомобилем',\n",
              "       'получение образования', 'автомобиль', 'свадьба',\n",
              "       'получение дополнительного образования', 'покупка своего жилья',\n",
              "       'операции с недвижимостью', 'получение высшего образования',\n",
              "       'свой автомобиль', 'сделка с автомобилем',\n",
              "       'профильное образование', 'высшее образование',\n",
              "       'покупка жилья для сдачи', 'на покупку автомобиля', 'ремонт жилью',\n",
              "       'заняться высшим образованием'], dtype=object)"
            ]
          },
          "execution_count": 12,
          "metadata": {},
          "output_type": "execute_result"
        }
      ],
      "source": [
        "df['purpose'].unique()"
      ]
    },
    {
      "cell_type": "markdown",
      "metadata": {
        "id": "_aOJ30By9Ku5"
      },
      "source": [
        "Требуется группировка по целям кредитования: Недвижимость, Автомобиль, Образование, Свадьба "
      ]
    },
    {
      "cell_type": "markdown",
      "metadata": {
        "id": "dgm5ZcPl9Ku6"
      },
      "source": [
        "### Вывод\n",
        "#### Для анализа данных требуется:\n",
        "1. заполнение пропущенных значений\n",
        "2. устранение артефактов\n",
        "3. группировка по категориям \n",
        "\n",
        "Для удобства нужно сократить десятые значения цифр.  "
      ]
    },
    {
      "cell_type": "markdown",
      "metadata": {
        "id": "NjI27XpW9Ku6"
      },
      "source": [
        "<div class=\"alert alert-success\">\n",
        "\n",
        "### Комментарий ревьюера\n",
        "\n",
        "Хорошо. Данные загружены, общая информация получена. \n",
        "</div>"
      ]
    },
    {
      "cell_type": "markdown",
      "metadata": {
        "id": "P9xruJC99Ku6"
      },
      "source": [
        "### Шаг 2. Предобработка данных"
      ]
    },
    {
      "cell_type": "markdown",
      "metadata": {
        "id": "meE5I_IA9Ku6"
      },
      "source": [
        "### Обработка пропусков\n",
        "#### Пропуск в доходах total_income заполню средним значением по типу занятости"
      ]
    },
    {
      "cell_type": "code",
      "execution_count": null,
      "metadata": {
        "id": "VUYdFT4I9Ku7"
      },
      "outputs": [],
      "source": [
        "#df = pd.read_csv('/datasets/data.csv') # ископаемое тестов:) Конечно не надо. "
      ]
    },
    {
      "cell_type": "markdown",
      "metadata": {
        "id": "gm6Ir-ON9Ku7"
      },
      "source": [
        "<div class=\"alert alert-danger\">\n",
        "\n",
        "### Комментарий ревьюера\n",
        "\n",
        "Таблица ведь на предыдущем шага уже загружена. зачем это делать опять? \n",
        "</div>"
      ]
    },
    {
      "cell_type": "code",
      "execution_count": null,
      "metadata": {
        "scrolled": true,
        "id": "Jc9UOB6j9Ku7",
        "outputId": "e077145f-45f0-4558-9e25-3b985f420c5a"
      },
      "outputs": [
        {
          "name": "stdout",
          "output_type": "stream",
          "text": [
            "<class 'pandas.core.frame.DataFrame'>\n",
            "RangeIndex: 21525 entries, 0 to 21524\n",
            "Data columns (total 12 columns):\n",
            "children            21525 non-null int64\n",
            "days_employed       19351 non-null float64\n",
            "dob_years           21525 non-null int64\n",
            "education           21525 non-null object\n",
            "education_id        21525 non-null int64\n",
            "family_status       21525 non-null object\n",
            "family_status_id    21525 non-null int64\n",
            "gender              21525 non-null object\n",
            "income_type         21525 non-null object\n",
            "debt                21525 non-null int64\n",
            "total_income        19351 non-null float64\n",
            "purpose             21525 non-null object\n",
            "dtypes: float64(2), int64(5), object(5)\n",
            "memory usage: 2.0+ MB\n"
          ]
        }
      ],
      "source": [
        "df.info()"
      ]
    },
    {
      "cell_type": "code",
      "execution_count": null,
      "metadata": {
        "scrolled": true,
        "id": "HoCNS1pL9Ku7",
        "outputId": "8fd76672-a5f4-47b4-93a5-e7779fcae810"
      },
      "outputs": [
        {
          "data": {
            "text/html": [
              "<div>\n",
              "<style scoped>\n",
              "    .dataframe tbody tr th:only-of-type {\n",
              "        vertical-align: middle;\n",
              "    }\n",
              "\n",
              "    .dataframe tbody tr th {\n",
              "        vertical-align: top;\n",
              "    }\n",
              "\n",
              "    .dataframe thead th {\n",
              "        text-align: right;\n",
              "    }\n",
              "</style>\n",
              "<table border=\"1\" class=\"dataframe\">\n",
              "  <thead>\n",
              "    <tr style=\"text-align: right;\">\n",
              "      <th></th>\n",
              "      <th>children</th>\n",
              "      <th>days_employed</th>\n",
              "      <th>dob_years</th>\n",
              "      <th>education</th>\n",
              "      <th>education_id</th>\n",
              "      <th>family_status</th>\n",
              "      <th>family_status_id</th>\n",
              "      <th>gender</th>\n",
              "      <th>income_type</th>\n",
              "      <th>debt</th>\n",
              "      <th>total_income</th>\n",
              "      <th>purpose</th>\n",
              "    </tr>\n",
              "  </thead>\n",
              "  <tbody>\n",
              "    <tr>\n",
              "      <td>12</td>\n",
              "      <td>0</td>\n",
              "      <td>NaN</td>\n",
              "      <td>65</td>\n",
              "      <td>среднее</td>\n",
              "      <td>1</td>\n",
              "      <td>гражданский брак</td>\n",
              "      <td>1</td>\n",
              "      <td>M</td>\n",
              "      <td>пенсионер</td>\n",
              "      <td>0</td>\n",
              "      <td>NaN</td>\n",
              "      <td>сыграть свадьбу</td>\n",
              "    </tr>\n",
              "    <tr>\n",
              "      <td>26</td>\n",
              "      <td>0</td>\n",
              "      <td>NaN</td>\n",
              "      <td>41</td>\n",
              "      <td>среднее</td>\n",
              "      <td>1</td>\n",
              "      <td>женат / замужем</td>\n",
              "      <td>0</td>\n",
              "      <td>M</td>\n",
              "      <td>госслужащий</td>\n",
              "      <td>0</td>\n",
              "      <td>NaN</td>\n",
              "      <td>образование</td>\n",
              "    </tr>\n",
              "    <tr>\n",
              "      <td>29</td>\n",
              "      <td>0</td>\n",
              "      <td>NaN</td>\n",
              "      <td>63</td>\n",
              "      <td>среднее</td>\n",
              "      <td>1</td>\n",
              "      <td>Не женат / не замужем</td>\n",
              "      <td>4</td>\n",
              "      <td>F</td>\n",
              "      <td>пенсионер</td>\n",
              "      <td>0</td>\n",
              "      <td>NaN</td>\n",
              "      <td>строительство жилой недвижимости</td>\n",
              "    </tr>\n",
              "    <tr>\n",
              "      <td>41</td>\n",
              "      <td>0</td>\n",
              "      <td>NaN</td>\n",
              "      <td>50</td>\n",
              "      <td>среднее</td>\n",
              "      <td>1</td>\n",
              "      <td>женат / замужем</td>\n",
              "      <td>0</td>\n",
              "      <td>F</td>\n",
              "      <td>госслужащий</td>\n",
              "      <td>0</td>\n",
              "      <td>NaN</td>\n",
              "      <td>сделка с подержанным автомобилем</td>\n",
              "    </tr>\n",
              "    <tr>\n",
              "      <td>55</td>\n",
              "      <td>0</td>\n",
              "      <td>NaN</td>\n",
              "      <td>54</td>\n",
              "      <td>среднее</td>\n",
              "      <td>1</td>\n",
              "      <td>гражданский брак</td>\n",
              "      <td>1</td>\n",
              "      <td>F</td>\n",
              "      <td>пенсионер</td>\n",
              "      <td>1</td>\n",
              "      <td>NaN</td>\n",
              "      <td>сыграть свадьбу</td>\n",
              "    </tr>\n",
              "    <tr>\n",
              "      <td>...</td>\n",
              "      <td>...</td>\n",
              "      <td>...</td>\n",
              "      <td>...</td>\n",
              "      <td>...</td>\n",
              "      <td>...</td>\n",
              "      <td>...</td>\n",
              "      <td>...</td>\n",
              "      <td>...</td>\n",
              "      <td>...</td>\n",
              "      <td>...</td>\n",
              "      <td>...</td>\n",
              "      <td>...</td>\n",
              "    </tr>\n",
              "    <tr>\n",
              "      <td>21489</td>\n",
              "      <td>2</td>\n",
              "      <td>NaN</td>\n",
              "      <td>47</td>\n",
              "      <td>Среднее</td>\n",
              "      <td>1</td>\n",
              "      <td>женат / замужем</td>\n",
              "      <td>0</td>\n",
              "      <td>M</td>\n",
              "      <td>компаньон</td>\n",
              "      <td>0</td>\n",
              "      <td>NaN</td>\n",
              "      <td>сделка с автомобилем</td>\n",
              "    </tr>\n",
              "    <tr>\n",
              "      <td>21495</td>\n",
              "      <td>1</td>\n",
              "      <td>NaN</td>\n",
              "      <td>50</td>\n",
              "      <td>среднее</td>\n",
              "      <td>1</td>\n",
              "      <td>гражданский брак</td>\n",
              "      <td>1</td>\n",
              "      <td>F</td>\n",
              "      <td>сотрудник</td>\n",
              "      <td>0</td>\n",
              "      <td>NaN</td>\n",
              "      <td>свадьба</td>\n",
              "    </tr>\n",
              "    <tr>\n",
              "      <td>21497</td>\n",
              "      <td>0</td>\n",
              "      <td>NaN</td>\n",
              "      <td>48</td>\n",
              "      <td>ВЫСШЕЕ</td>\n",
              "      <td>0</td>\n",
              "      <td>женат / замужем</td>\n",
              "      <td>0</td>\n",
              "      <td>F</td>\n",
              "      <td>компаньон</td>\n",
              "      <td>0</td>\n",
              "      <td>NaN</td>\n",
              "      <td>строительство недвижимости</td>\n",
              "    </tr>\n",
              "    <tr>\n",
              "      <td>21502</td>\n",
              "      <td>1</td>\n",
              "      <td>NaN</td>\n",
              "      <td>42</td>\n",
              "      <td>среднее</td>\n",
              "      <td>1</td>\n",
              "      <td>женат / замужем</td>\n",
              "      <td>0</td>\n",
              "      <td>F</td>\n",
              "      <td>сотрудник</td>\n",
              "      <td>0</td>\n",
              "      <td>NaN</td>\n",
              "      <td>строительство жилой недвижимости</td>\n",
              "    </tr>\n",
              "    <tr>\n",
              "      <td>21510</td>\n",
              "      <td>2</td>\n",
              "      <td>NaN</td>\n",
              "      <td>28</td>\n",
              "      <td>среднее</td>\n",
              "      <td>1</td>\n",
              "      <td>женат / замужем</td>\n",
              "      <td>0</td>\n",
              "      <td>F</td>\n",
              "      <td>сотрудник</td>\n",
              "      <td>0</td>\n",
              "      <td>NaN</td>\n",
              "      <td>приобретение автомобиля</td>\n",
              "    </tr>\n",
              "  </tbody>\n",
              "</table>\n",
              "<p>2174 rows × 12 columns</p>\n",
              "</div>"
            ],
            "text/plain": [
              "       children  days_employed  dob_years education  education_id  \\\n",
              "12            0            NaN         65   среднее             1   \n",
              "26            0            NaN         41   среднее             1   \n",
              "29            0            NaN         63   среднее             1   \n",
              "41            0            NaN         50   среднее             1   \n",
              "55            0            NaN         54   среднее             1   \n",
              "...         ...            ...        ...       ...           ...   \n",
              "21489         2            NaN         47   Среднее             1   \n",
              "21495         1            NaN         50   среднее             1   \n",
              "21497         0            NaN         48    ВЫСШЕЕ             0   \n",
              "21502         1            NaN         42   среднее             1   \n",
              "21510         2            NaN         28   среднее             1   \n",
              "\n",
              "               family_status  family_status_id gender  income_type  debt  \\\n",
              "12          гражданский брак                 1      M    пенсионер     0   \n",
              "26           женат / замужем                 0      M  госслужащий     0   \n",
              "29     Не женат / не замужем                 4      F    пенсионер     0   \n",
              "41           женат / замужем                 0      F  госслужащий     0   \n",
              "55          гражданский брак                 1      F    пенсионер     1   \n",
              "...                      ...               ...    ...          ...   ...   \n",
              "21489        женат / замужем                 0      M    компаньон     0   \n",
              "21495       гражданский брак                 1      F    сотрудник     0   \n",
              "21497        женат / замужем                 0      F    компаньон     0   \n",
              "21502        женат / замужем                 0      F    сотрудник     0   \n",
              "21510        женат / замужем                 0      F    сотрудник     0   \n",
              "\n",
              "       total_income                           purpose  \n",
              "12              NaN                   сыграть свадьбу  \n",
              "26              NaN                       образование  \n",
              "29              NaN  строительство жилой недвижимости  \n",
              "41              NaN  сделка с подержанным автомобилем  \n",
              "55              NaN                   сыграть свадьбу  \n",
              "...             ...                               ...  \n",
              "21489           NaN              сделка с автомобилем  \n",
              "21495           NaN                           свадьба  \n",
              "21497           NaN        строительство недвижимости  \n",
              "21502           NaN  строительство жилой недвижимости  \n",
              "21510           NaN           приобретение автомобиля  \n",
              "\n",
              "[2174 rows x 12 columns]"
            ]
          },
          "execution_count": 15,
          "metadata": {},
          "output_type": "execute_result"
        }
      ],
      "source": [
        "df.loc[df['total_income'].isna()]"
      ]
    },
    {
      "cell_type": "code",
      "execution_count": null,
      "metadata": {
        "id": "LSG8BLNy9Ku8"
      },
      "outputs": [],
      "source": [
        "def non_value(df, value, category):\n",
        "    for type_unique in df[category].unique():\n",
        "        df.loc[(df[value].isna())&(df[category] ==type_unique), value] = df.loc[df[category] ==type_unique, value].median()\n",
        "    return df\n",
        "\n",
        "df = non_value(df, 'total_income', 'income_type')  # замена пустых значений дохода средним доходом по этому типу занятости"
      ]
    },
    {
      "cell_type": "code",
      "execution_count": null,
      "metadata": {
        "id": "oCgtntg99Ku8",
        "outputId": "cc94de92-e84b-4c90-de44-796b45dd85e4"
      },
      "outputs": [
        {
          "data": {
            "text/html": [
              "<div>\n",
              "<style scoped>\n",
              "    .dataframe tbody tr th:only-of-type {\n",
              "        vertical-align: middle;\n",
              "    }\n",
              "\n",
              "    .dataframe tbody tr th {\n",
              "        vertical-align: top;\n",
              "    }\n",
              "\n",
              "    .dataframe thead th {\n",
              "        text-align: right;\n",
              "    }\n",
              "</style>\n",
              "<table border=\"1\" class=\"dataframe\">\n",
              "  <thead>\n",
              "    <tr style=\"text-align: right;\">\n",
              "      <th></th>\n",
              "      <th>children</th>\n",
              "      <th>days_employed</th>\n",
              "      <th>dob_years</th>\n",
              "      <th>education</th>\n",
              "      <th>education_id</th>\n",
              "      <th>family_status</th>\n",
              "      <th>family_status_id</th>\n",
              "      <th>gender</th>\n",
              "      <th>income_type</th>\n",
              "      <th>debt</th>\n",
              "      <th>total_income</th>\n",
              "      <th>purpose</th>\n",
              "    </tr>\n",
              "  </thead>\n",
              "  <tbody>\n",
              "  </tbody>\n",
              "</table>\n",
              "</div>"
            ],
            "text/plain": [
              "Empty DataFrame\n",
              "Columns: [children, days_employed, dob_years, education, education_id, family_status, family_status_id, gender, income_type, debt, total_income, purpose]\n",
              "Index: []"
            ]
          },
          "execution_count": 17,
          "metadata": {},
          "output_type": "execute_result"
        }
      ],
      "source": [
        "df.loc[df['total_income'].isna()]"
      ]
    },
    {
      "cell_type": "markdown",
      "metadata": {
        "id": "9DhLQDYr9Ku9"
      },
      "source": [
        "<div class=\"alert alert-success\">\n",
        "\n",
        "### Комментарий ревьюера 2\n",
        "\n",
        "Отлично. С доходом разобрались...что там дальше?\n",
        "</div>"
      ]
    },
    {
      "cell_type": "code",
      "execution_count": null,
      "metadata": {
        "id": "F_Pi9Kjw9Ku9",
        "outputId": "98d9eb86-9fed-4539-d9c7-82d0cbe09c93"
      },
      "outputs": [
        {
          "name": "stdout",
          "output_type": "stream",
          "text": [
            "<class 'pandas.core.frame.DataFrame'>\n",
            "RangeIndex: 21525 entries, 0 to 21524\n",
            "Data columns (total 12 columns):\n",
            "children            21525 non-null int64\n",
            "days_employed       19351 non-null float64\n",
            "dob_years           21525 non-null int64\n",
            "education           21525 non-null object\n",
            "education_id        21525 non-null int64\n",
            "family_status       21525 non-null object\n",
            "family_status_id    21525 non-null int64\n",
            "gender              21525 non-null object\n",
            "income_type         21525 non-null object\n",
            "debt                21525 non-null int64\n",
            "total_income        21525 non-null float64\n",
            "purpose             21525 non-null object\n",
            "dtypes: float64(2), int64(5), object(5)\n",
            "memory usage: 2.0+ MB\n"
          ]
        }
      ],
      "source": [
        "df.info()"
      ]
    },
    {
      "cell_type": "markdown",
      "metadata": {
        "id": "st5rJpF-9Ku9"
      },
      "source": [
        "####  В трудовом стаже 'days_employed': Отрицательные значения. Слишком большие значения. Пропуски"
      ]
    },
    {
      "cell_type": "code",
      "execution_count": null,
      "metadata": {
        "id": "QAgsC7-t9Ku9",
        "outputId": "27c17a5f-52a1-43f2-aecd-a47cc3e35b60"
      },
      "outputs": [
        {
          "data": {
            "text/plain": [
              "count     19351.000000\n",
              "mean      63046.497661\n",
              "std      140827.311974\n",
              "min      -18388.949901\n",
              "25%       -2747.423625\n",
              "50%       -1203.369529\n",
              "75%        -291.095954\n",
              "max      401755.400475\n",
              "Name: days_employed, dtype: float64"
            ]
          },
          "execution_count": 20,
          "metadata": {},
          "output_type": "execute_result"
        }
      ],
      "source": [
        "df['days_employed'].describe()"
      ]
    },
    {
      "cell_type": "code",
      "execution_count": null,
      "metadata": {
        "id": "OARpq7cc9Ku-",
        "outputId": "1a52a668-2d1e-461e-bd5a-dd701775acba"
      },
      "outputs": [
        {
          "data": {
            "text/html": [
              "<div>\n",
              "<style scoped>\n",
              "    .dataframe tbody tr th:only-of-type {\n",
              "        vertical-align: middle;\n",
              "    }\n",
              "\n",
              "    .dataframe tbody tr th {\n",
              "        vertical-align: top;\n",
              "    }\n",
              "\n",
              "    .dataframe thead th {\n",
              "        text-align: right;\n",
              "    }\n",
              "</style>\n",
              "<table border=\"1\" class=\"dataframe\">\n",
              "  <thead>\n",
              "    <tr style=\"text-align: right;\">\n",
              "      <th></th>\n",
              "      <th>children</th>\n",
              "      <th>days_employed</th>\n",
              "      <th>dob_years</th>\n",
              "      <th>education</th>\n",
              "      <th>education_id</th>\n",
              "      <th>family_status</th>\n",
              "      <th>family_status_id</th>\n",
              "      <th>gender</th>\n",
              "      <th>income_type</th>\n",
              "      <th>debt</th>\n",
              "      <th>total_income</th>\n",
              "      <th>purpose</th>\n",
              "    </tr>\n",
              "  </thead>\n",
              "  <tbody>\n",
              "    <tr>\n",
              "      <td>0</td>\n",
              "      <td>1</td>\n",
              "      <td>-8437.673028</td>\n",
              "      <td>42</td>\n",
              "      <td>высшее</td>\n",
              "      <td>0</td>\n",
              "      <td>женат / замужем</td>\n",
              "      <td>0</td>\n",
              "      <td>F</td>\n",
              "      <td>сотрудник</td>\n",
              "      <td>0</td>\n",
              "      <td>253875.639453</td>\n",
              "      <td>покупка жилья</td>\n",
              "    </tr>\n",
              "    <tr>\n",
              "      <td>1</td>\n",
              "      <td>1</td>\n",
              "      <td>-4024.803754</td>\n",
              "      <td>36</td>\n",
              "      <td>среднее</td>\n",
              "      <td>1</td>\n",
              "      <td>женат / замужем</td>\n",
              "      <td>0</td>\n",
              "      <td>F</td>\n",
              "      <td>сотрудник</td>\n",
              "      <td>0</td>\n",
              "      <td>112080.014102</td>\n",
              "      <td>приобретение автомобиля</td>\n",
              "    </tr>\n",
              "    <tr>\n",
              "      <td>2</td>\n",
              "      <td>0</td>\n",
              "      <td>-5623.422610</td>\n",
              "      <td>33</td>\n",
              "      <td>Среднее</td>\n",
              "      <td>1</td>\n",
              "      <td>женат / замужем</td>\n",
              "      <td>0</td>\n",
              "      <td>M</td>\n",
              "      <td>сотрудник</td>\n",
              "      <td>0</td>\n",
              "      <td>145885.952297</td>\n",
              "      <td>покупка жилья</td>\n",
              "    </tr>\n",
              "    <tr>\n",
              "      <td>3</td>\n",
              "      <td>3</td>\n",
              "      <td>-4124.747207</td>\n",
              "      <td>32</td>\n",
              "      <td>среднее</td>\n",
              "      <td>1</td>\n",
              "      <td>женат / замужем</td>\n",
              "      <td>0</td>\n",
              "      <td>M</td>\n",
              "      <td>сотрудник</td>\n",
              "      <td>0</td>\n",
              "      <td>267628.550329</td>\n",
              "      <td>дополнительное образование</td>\n",
              "    </tr>\n",
              "    <tr>\n",
              "      <td>5</td>\n",
              "      <td>0</td>\n",
              "      <td>-926.185831</td>\n",
              "      <td>27</td>\n",
              "      <td>высшее</td>\n",
              "      <td>0</td>\n",
              "      <td>гражданский брак</td>\n",
              "      <td>1</td>\n",
              "      <td>M</td>\n",
              "      <td>компаньон</td>\n",
              "      <td>0</td>\n",
              "      <td>255763.565419</td>\n",
              "      <td>покупка жилья</td>\n",
              "    </tr>\n",
              "    <tr>\n",
              "      <td>...</td>\n",
              "      <td>...</td>\n",
              "      <td>...</td>\n",
              "      <td>...</td>\n",
              "      <td>...</td>\n",
              "      <td>...</td>\n",
              "      <td>...</td>\n",
              "      <td>...</td>\n",
              "      <td>...</td>\n",
              "      <td>...</td>\n",
              "      <td>...</td>\n",
              "      <td>...</td>\n",
              "      <td>...</td>\n",
              "    </tr>\n",
              "    <tr>\n",
              "      <td>21519</td>\n",
              "      <td>1</td>\n",
              "      <td>-2351.431934</td>\n",
              "      <td>37</td>\n",
              "      <td>ученая степень</td>\n",
              "      <td>4</td>\n",
              "      <td>в разводе</td>\n",
              "      <td>3</td>\n",
              "      <td>M</td>\n",
              "      <td>сотрудник</td>\n",
              "      <td>0</td>\n",
              "      <td>115949.039788</td>\n",
              "      <td>покупка коммерческой недвижимости</td>\n",
              "    </tr>\n",
              "    <tr>\n",
              "      <td>21520</td>\n",
              "      <td>1</td>\n",
              "      <td>-4529.316663</td>\n",
              "      <td>43</td>\n",
              "      <td>среднее</td>\n",
              "      <td>1</td>\n",
              "      <td>гражданский брак</td>\n",
              "      <td>1</td>\n",
              "      <td>F</td>\n",
              "      <td>компаньон</td>\n",
              "      <td>0</td>\n",
              "      <td>224791.862382</td>\n",
              "      <td>операции с жильем</td>\n",
              "    </tr>\n",
              "    <tr>\n",
              "      <td>21522</td>\n",
              "      <td>1</td>\n",
              "      <td>-2113.346888</td>\n",
              "      <td>38</td>\n",
              "      <td>среднее</td>\n",
              "      <td>1</td>\n",
              "      <td>гражданский брак</td>\n",
              "      <td>1</td>\n",
              "      <td>M</td>\n",
              "      <td>сотрудник</td>\n",
              "      <td>1</td>\n",
              "      <td>89672.561153</td>\n",
              "      <td>недвижимость</td>\n",
              "    </tr>\n",
              "    <tr>\n",
              "      <td>21523</td>\n",
              "      <td>3</td>\n",
              "      <td>-3112.481705</td>\n",
              "      <td>38</td>\n",
              "      <td>среднее</td>\n",
              "      <td>1</td>\n",
              "      <td>женат / замужем</td>\n",
              "      <td>0</td>\n",
              "      <td>M</td>\n",
              "      <td>сотрудник</td>\n",
              "      <td>1</td>\n",
              "      <td>244093.050500</td>\n",
              "      <td>на покупку своего автомобиля</td>\n",
              "    </tr>\n",
              "    <tr>\n",
              "      <td>21524</td>\n",
              "      <td>2</td>\n",
              "      <td>-1984.507589</td>\n",
              "      <td>40</td>\n",
              "      <td>среднее</td>\n",
              "      <td>1</td>\n",
              "      <td>женат / замужем</td>\n",
              "      <td>0</td>\n",
              "      <td>F</td>\n",
              "      <td>сотрудник</td>\n",
              "      <td>0</td>\n",
              "      <td>82047.418899</td>\n",
              "      <td>на покупку автомобиля</td>\n",
              "    </tr>\n",
              "  </tbody>\n",
              "</table>\n",
              "<p>15906 rows × 12 columns</p>\n",
              "</div>"
            ],
            "text/plain": [
              "       children  days_employed  dob_years       education  education_id  \\\n",
              "0             1   -8437.673028         42          высшее             0   \n",
              "1             1   -4024.803754         36         среднее             1   \n",
              "2             0   -5623.422610         33         Среднее             1   \n",
              "3             3   -4124.747207         32         среднее             1   \n",
              "5             0    -926.185831         27          высшее             0   \n",
              "...         ...            ...        ...             ...           ...   \n",
              "21519         1   -2351.431934         37  ученая степень             4   \n",
              "21520         1   -4529.316663         43         среднее             1   \n",
              "21522         1   -2113.346888         38         среднее             1   \n",
              "21523         3   -3112.481705         38         среднее             1   \n",
              "21524         2   -1984.507589         40         среднее             1   \n",
              "\n",
              "          family_status  family_status_id gender income_type  debt  \\\n",
              "0       женат / замужем                 0      F   сотрудник     0   \n",
              "1       женат / замужем                 0      F   сотрудник     0   \n",
              "2       женат / замужем                 0      M   сотрудник     0   \n",
              "3       женат / замужем                 0      M   сотрудник     0   \n",
              "5      гражданский брак                 1      M   компаньон     0   \n",
              "...                 ...               ...    ...         ...   ...   \n",
              "21519         в разводе                 3      M   сотрудник     0   \n",
              "21520  гражданский брак                 1      F   компаньон     0   \n",
              "21522  гражданский брак                 1      M   сотрудник     1   \n",
              "21523   женат / замужем                 0      M   сотрудник     1   \n",
              "21524   женат / замужем                 0      F   сотрудник     0   \n",
              "\n",
              "        total_income                            purpose  \n",
              "0      253875.639453                      покупка жилья  \n",
              "1      112080.014102            приобретение автомобиля  \n",
              "2      145885.952297                      покупка жилья  \n",
              "3      267628.550329         дополнительное образование  \n",
              "5      255763.565419                      покупка жилья  \n",
              "...              ...                                ...  \n",
              "21519  115949.039788  покупка коммерческой недвижимости  \n",
              "21520  224791.862382                  операции с жильем  \n",
              "21522   89672.561153                       недвижимость  \n",
              "21523  244093.050500       на покупку своего автомобиля  \n",
              "21524   82047.418899              на покупку автомобиля  \n",
              "\n",
              "[15906 rows x 12 columns]"
            ]
          },
          "execution_count": 21,
          "metadata": {},
          "output_type": "execute_result"
        }
      ],
      "source": [
        "df.loc[df['days_employed'] < 1]"
      ]
    },
    {
      "cell_type": "code",
      "execution_count": null,
      "metadata": {
        "id": "0PlUC6_j9Ku-"
      },
      "outputs": [],
      "source": [
        "df['days_employed'] =  df['days_employed'].apply(lambda x: x if x>0 else x*-1) \n",
        "#это поиск отрицательных и замена их на положительные значения"
      ]
    },
    {
      "cell_type": "markdown",
      "metadata": {
        "id": "Z0J2HHzp9Ku-"
      },
      "source": [
        "<div class=\"alert alert-success\">\n",
        "\n",
        "### Комментарий ревьюера 2\n",
        "\n",
        "Оу. Лямда ?! круто!\n",
        "</div>"
      ]
    },
    {
      "cell_type": "code",
      "execution_count": null,
      "metadata": {
        "id": "Q8orrvP19Ku-",
        "outputId": "48766c6c-8854-42f4-c8d0-895d2685a05a"
      },
      "outputs": [
        {
          "data": {
            "text/html": [
              "<div>\n",
              "<style scoped>\n",
              "    .dataframe tbody tr th:only-of-type {\n",
              "        vertical-align: middle;\n",
              "    }\n",
              "\n",
              "    .dataframe tbody tr th {\n",
              "        vertical-align: top;\n",
              "    }\n",
              "\n",
              "    .dataframe thead th {\n",
              "        text-align: right;\n",
              "    }\n",
              "</style>\n",
              "<table border=\"1\" class=\"dataframe\">\n",
              "  <thead>\n",
              "    <tr style=\"text-align: right;\">\n",
              "      <th></th>\n",
              "      <th>children</th>\n",
              "      <th>days_employed</th>\n",
              "      <th>dob_years</th>\n",
              "      <th>education</th>\n",
              "      <th>education_id</th>\n",
              "      <th>family_status</th>\n",
              "      <th>family_status_id</th>\n",
              "      <th>gender</th>\n",
              "      <th>income_type</th>\n",
              "      <th>debt</th>\n",
              "      <th>total_income</th>\n",
              "      <th>purpose</th>\n",
              "    </tr>\n",
              "  </thead>\n",
              "  <tbody>\n",
              "  </tbody>\n",
              "</table>\n",
              "</div>"
            ],
            "text/plain": [
              "Empty DataFrame\n",
              "Columns: [children, days_employed, dob_years, education, education_id, family_status, family_status_id, gender, income_type, debt, total_income, purpose]\n",
              "Index: []"
            ]
          },
          "execution_count": 23,
          "metadata": {},
          "output_type": "execute_result"
        }
      ],
      "source": [
        "df.loc[df['days_employed'] < 1]"
      ]
    },
    {
      "cell_type": "code",
      "execution_count": null,
      "metadata": {
        "id": "E8M0A4UR9Ku-",
        "outputId": "086321f6-5c0a-425c-cb93-ba3cc99f86de"
      },
      "outputs": [
        {
          "data": {
            "text/plain": [
              "count     19351.000000\n",
              "mean      66914.728907\n",
              "std      139030.880527\n",
              "min          24.141633\n",
              "25%         927.009265\n",
              "50%        2194.220567\n",
              "75%        5537.882441\n",
              "max      401755.400475\n",
              "Name: days_employed, dtype: float64"
            ]
          },
          "execution_count": 24,
          "metadata": {},
          "output_type": "execute_result"
        }
      ],
      "source": [
        "df['days_employed'].describe()"
      ]
    },
    {
      "cell_type": "code",
      "execution_count": null,
      "metadata": {
        "id": "oOydpnCh9Ku_"
      },
      "outputs": [],
      "source": [
        "df['days_employed'] =  df['days_employed'].apply(lambda x: x if x<133000 else x/24) \n",
        "#это поиск огромных значений и их деление на 24 часа. Значение 133000 получено от умножения 5537 (эти значения весят до 75%)*24ч."
      ]
    },
    {
      "cell_type": "code",
      "execution_count": null,
      "metadata": {
        "id": "v1Xce_EP9Ku_",
        "outputId": "8c7ed329-526f-4f82-e555-e48c9be86190"
      },
      "outputs": [
        {
          "data": {
            "text/plain": [
              "count    19351.000000\n",
              "mean      4641.641176\n",
              "std       5355.964289\n",
              "min         24.141633\n",
              "25%        927.009265\n",
              "50%       2194.220567\n",
              "75%       5537.882441\n",
              "max      18388.949901\n",
              "Name: days_employed, dtype: float64"
            ]
          },
          "execution_count": 26,
          "metadata": {},
          "output_type": "execute_result"
        }
      ],
      "source": [
        "df['days_employed'].describe()"
      ]
    },
    {
      "cell_type": "code",
      "execution_count": null,
      "metadata": {
        "id": "LfXKIjh19Ku_",
        "outputId": "51da8117-c5b2-448c-f2c1-05a4b32e9426"
      },
      "outputs": [
        {
          "data": {
            "text/html": [
              "<div>\n",
              "<style scoped>\n",
              "    .dataframe tbody tr th:only-of-type {\n",
              "        vertical-align: middle;\n",
              "    }\n",
              "\n",
              "    .dataframe tbody tr th {\n",
              "        vertical-align: top;\n",
              "    }\n",
              "\n",
              "    .dataframe thead th {\n",
              "        text-align: right;\n",
              "    }\n",
              "</style>\n",
              "<table border=\"1\" class=\"dataframe\">\n",
              "  <thead>\n",
              "    <tr style=\"text-align: right;\">\n",
              "      <th></th>\n",
              "      <th>children</th>\n",
              "      <th>days_employed</th>\n",
              "      <th>dob_years</th>\n",
              "      <th>education</th>\n",
              "      <th>education_id</th>\n",
              "      <th>family_status</th>\n",
              "      <th>family_status_id</th>\n",
              "      <th>gender</th>\n",
              "      <th>income_type</th>\n",
              "      <th>debt</th>\n",
              "      <th>total_income</th>\n",
              "      <th>purpose</th>\n",
              "    </tr>\n",
              "  </thead>\n",
              "  <tbody>\n",
              "    <tr>\n",
              "      <td>12</td>\n",
              "      <td>0</td>\n",
              "      <td>NaN</td>\n",
              "      <td>65</td>\n",
              "      <td>среднее</td>\n",
              "      <td>1</td>\n",
              "      <td>гражданский брак</td>\n",
              "      <td>1</td>\n",
              "      <td>M</td>\n",
              "      <td>пенсионер</td>\n",
              "      <td>0</td>\n",
              "      <td>118514.486412</td>\n",
              "      <td>сыграть свадьбу</td>\n",
              "    </tr>\n",
              "    <tr>\n",
              "      <td>26</td>\n",
              "      <td>0</td>\n",
              "      <td>NaN</td>\n",
              "      <td>41</td>\n",
              "      <td>среднее</td>\n",
              "      <td>1</td>\n",
              "      <td>женат / замужем</td>\n",
              "      <td>0</td>\n",
              "      <td>M</td>\n",
              "      <td>госслужащий</td>\n",
              "      <td>0</td>\n",
              "      <td>150447.935283</td>\n",
              "      <td>образование</td>\n",
              "    </tr>\n",
              "    <tr>\n",
              "      <td>29</td>\n",
              "      <td>0</td>\n",
              "      <td>NaN</td>\n",
              "      <td>63</td>\n",
              "      <td>среднее</td>\n",
              "      <td>1</td>\n",
              "      <td>Не женат / не замужем</td>\n",
              "      <td>4</td>\n",
              "      <td>F</td>\n",
              "      <td>пенсионер</td>\n",
              "      <td>0</td>\n",
              "      <td>118514.486412</td>\n",
              "      <td>строительство жилой недвижимости</td>\n",
              "    </tr>\n",
              "    <tr>\n",
              "      <td>41</td>\n",
              "      <td>0</td>\n",
              "      <td>NaN</td>\n",
              "      <td>50</td>\n",
              "      <td>среднее</td>\n",
              "      <td>1</td>\n",
              "      <td>женат / замужем</td>\n",
              "      <td>0</td>\n",
              "      <td>F</td>\n",
              "      <td>госслужащий</td>\n",
              "      <td>0</td>\n",
              "      <td>150447.935283</td>\n",
              "      <td>сделка с подержанным автомобилем</td>\n",
              "    </tr>\n",
              "    <tr>\n",
              "      <td>55</td>\n",
              "      <td>0</td>\n",
              "      <td>NaN</td>\n",
              "      <td>54</td>\n",
              "      <td>среднее</td>\n",
              "      <td>1</td>\n",
              "      <td>гражданский брак</td>\n",
              "      <td>1</td>\n",
              "      <td>F</td>\n",
              "      <td>пенсионер</td>\n",
              "      <td>1</td>\n",
              "      <td>118514.486412</td>\n",
              "      <td>сыграть свадьбу</td>\n",
              "    </tr>\n",
              "    <tr>\n",
              "      <td>...</td>\n",
              "      <td>...</td>\n",
              "      <td>...</td>\n",
              "      <td>...</td>\n",
              "      <td>...</td>\n",
              "      <td>...</td>\n",
              "      <td>...</td>\n",
              "      <td>...</td>\n",
              "      <td>...</td>\n",
              "      <td>...</td>\n",
              "      <td>...</td>\n",
              "      <td>...</td>\n",
              "      <td>...</td>\n",
              "    </tr>\n",
              "    <tr>\n",
              "      <td>21489</td>\n",
              "      <td>2</td>\n",
              "      <td>NaN</td>\n",
              "      <td>47</td>\n",
              "      <td>Среднее</td>\n",
              "      <td>1</td>\n",
              "      <td>женат / замужем</td>\n",
              "      <td>0</td>\n",
              "      <td>M</td>\n",
              "      <td>компаньон</td>\n",
              "      <td>0</td>\n",
              "      <td>172357.950966</td>\n",
              "      <td>сделка с автомобилем</td>\n",
              "    </tr>\n",
              "    <tr>\n",
              "      <td>21495</td>\n",
              "      <td>1</td>\n",
              "      <td>NaN</td>\n",
              "      <td>50</td>\n",
              "      <td>среднее</td>\n",
              "      <td>1</td>\n",
              "      <td>гражданский брак</td>\n",
              "      <td>1</td>\n",
              "      <td>F</td>\n",
              "      <td>сотрудник</td>\n",
              "      <td>0</td>\n",
              "      <td>142594.396847</td>\n",
              "      <td>свадьба</td>\n",
              "    </tr>\n",
              "    <tr>\n",
              "      <td>21497</td>\n",
              "      <td>0</td>\n",
              "      <td>NaN</td>\n",
              "      <td>48</td>\n",
              "      <td>ВЫСШЕЕ</td>\n",
              "      <td>0</td>\n",
              "      <td>женат / замужем</td>\n",
              "      <td>0</td>\n",
              "      <td>F</td>\n",
              "      <td>компаньон</td>\n",
              "      <td>0</td>\n",
              "      <td>172357.950966</td>\n",
              "      <td>строительство недвижимости</td>\n",
              "    </tr>\n",
              "    <tr>\n",
              "      <td>21502</td>\n",
              "      <td>1</td>\n",
              "      <td>NaN</td>\n",
              "      <td>42</td>\n",
              "      <td>среднее</td>\n",
              "      <td>1</td>\n",
              "      <td>женат / замужем</td>\n",
              "      <td>0</td>\n",
              "      <td>F</td>\n",
              "      <td>сотрудник</td>\n",
              "      <td>0</td>\n",
              "      <td>142594.396847</td>\n",
              "      <td>строительство жилой недвижимости</td>\n",
              "    </tr>\n",
              "    <tr>\n",
              "      <td>21510</td>\n",
              "      <td>2</td>\n",
              "      <td>NaN</td>\n",
              "      <td>28</td>\n",
              "      <td>среднее</td>\n",
              "      <td>1</td>\n",
              "      <td>женат / замужем</td>\n",
              "      <td>0</td>\n",
              "      <td>F</td>\n",
              "      <td>сотрудник</td>\n",
              "      <td>0</td>\n",
              "      <td>142594.396847</td>\n",
              "      <td>приобретение автомобиля</td>\n",
              "    </tr>\n",
              "  </tbody>\n",
              "</table>\n",
              "<p>2174 rows × 12 columns</p>\n",
              "</div>"
            ],
            "text/plain": [
              "       children  days_employed  dob_years education  education_id  \\\n",
              "12            0            NaN         65   среднее             1   \n",
              "26            0            NaN         41   среднее             1   \n",
              "29            0            NaN         63   среднее             1   \n",
              "41            0            NaN         50   среднее             1   \n",
              "55            0            NaN         54   среднее             1   \n",
              "...         ...            ...        ...       ...           ...   \n",
              "21489         2            NaN         47   Среднее             1   \n",
              "21495         1            NaN         50   среднее             1   \n",
              "21497         0            NaN         48    ВЫСШЕЕ             0   \n",
              "21502         1            NaN         42   среднее             1   \n",
              "21510         2            NaN         28   среднее             1   \n",
              "\n",
              "               family_status  family_status_id gender  income_type  debt  \\\n",
              "12          гражданский брак                 1      M    пенсионер     0   \n",
              "26           женат / замужем                 0      M  госслужащий     0   \n",
              "29     Не женат / не замужем                 4      F    пенсионер     0   \n",
              "41           женат / замужем                 0      F  госслужащий     0   \n",
              "55          гражданский брак                 1      F    пенсионер     1   \n",
              "...                      ...               ...    ...          ...   ...   \n",
              "21489        женат / замужем                 0      M    компаньон     0   \n",
              "21495       гражданский брак                 1      F    сотрудник     0   \n",
              "21497        женат / замужем                 0      F    компаньон     0   \n",
              "21502        женат / замужем                 0      F    сотрудник     0   \n",
              "21510        женат / замужем                 0      F    сотрудник     0   \n",
              "\n",
              "        total_income                           purpose  \n",
              "12     118514.486412                   сыграть свадьбу  \n",
              "26     150447.935283                       образование  \n",
              "29     118514.486412  строительство жилой недвижимости  \n",
              "41     150447.935283  сделка с подержанным автомобилем  \n",
              "55     118514.486412                   сыграть свадьбу  \n",
              "...              ...                               ...  \n",
              "21489  172357.950966              сделка с автомобилем  \n",
              "21495  142594.396847                           свадьба  \n",
              "21497  172357.950966        строительство недвижимости  \n",
              "21502  142594.396847  строительство жилой недвижимости  \n",
              "21510  142594.396847           приобретение автомобиля  \n",
              "\n",
              "[2174 rows x 12 columns]"
            ]
          },
          "execution_count": 27,
          "metadata": {},
          "output_type": "execute_result"
        }
      ],
      "source": [
        "df.loc[df['days_employed'].isna()]"
      ]
    },
    {
      "cell_type": "code",
      "execution_count": null,
      "metadata": {
        "id": "nr368LBt9Ku_"
      },
      "outputs": [],
      "source": [
        "def no_non_value(df, value, category):\n",
        "    for type_unique in df[category].unique():\n",
        "        df.loc[(df[value].isna())&(df[category] ==type_unique), value] = df.loc[df[category] ==type_unique, value].median()\n",
        "    return df\n",
        "\n",
        "df = no_non_value(df, 'days_employed', 'dob_years')  # замена пустых значений средним по этому возрасту"
      ]
    },
    {
      "cell_type": "code",
      "execution_count": null,
      "metadata": {
        "id": "Mv601Ld79KvA",
        "outputId": "db181854-c990-4414-f538-5710d3a401b0"
      },
      "outputs": [
        {
          "data": {
            "text/html": [
              "<div>\n",
              "<style scoped>\n",
              "    .dataframe tbody tr th:only-of-type {\n",
              "        vertical-align: middle;\n",
              "    }\n",
              "\n",
              "    .dataframe tbody tr th {\n",
              "        vertical-align: top;\n",
              "    }\n",
              "\n",
              "    .dataframe thead th {\n",
              "        text-align: right;\n",
              "    }\n",
              "</style>\n",
              "<table border=\"1\" class=\"dataframe\">\n",
              "  <thead>\n",
              "    <tr style=\"text-align: right;\">\n",
              "      <th></th>\n",
              "      <th>children</th>\n",
              "      <th>days_employed</th>\n",
              "      <th>dob_years</th>\n",
              "      <th>education</th>\n",
              "      <th>education_id</th>\n",
              "      <th>family_status</th>\n",
              "      <th>family_status_id</th>\n",
              "      <th>gender</th>\n",
              "      <th>income_type</th>\n",
              "      <th>debt</th>\n",
              "      <th>total_income</th>\n",
              "      <th>purpose</th>\n",
              "    </tr>\n",
              "  </thead>\n",
              "  <tbody>\n",
              "  </tbody>\n",
              "</table>\n",
              "</div>"
            ],
            "text/plain": [
              "Empty DataFrame\n",
              "Columns: [children, days_employed, dob_years, education, education_id, family_status, family_status_id, gender, income_type, debt, total_income, purpose]\n",
              "Index: []"
            ]
          },
          "execution_count": 29,
          "metadata": {},
          "output_type": "execute_result"
        }
      ],
      "source": [
        "df.loc[df['days_employed'].isna()]"
      ]
    },
    {
      "cell_type": "code",
      "execution_count": null,
      "metadata": {
        "id": "VnnMP3s19KvA",
        "outputId": "6279dd58-ab05-4b2e-8af7-d8ffbd386061"
      },
      "outputs": [
        {
          "data": {
            "text/plain": [
              "count    21525.000000\n",
              "mean      4629.994398\n",
              "std       5317.592062\n",
              "min         24.141633\n",
              "25%       1007.368820\n",
              "50%       2170.569747\n",
              "75%       5489.396756\n",
              "max      18388.949901\n",
              "Name: days_employed, dtype: float64"
            ]
          },
          "execution_count": 30,
          "metadata": {},
          "output_type": "execute_result"
        }
      ],
      "source": [
        "df['days_employed'].describe()"
      ]
    },
    {
      "cell_type": "markdown",
      "metadata": {
        "id": "cNECMMHz9KvA"
      },
      "source": [
        "<div class=\"alert alert-success\">\n",
        "\n",
        "### Комментарий ревьюера 2\n",
        "\n",
        "Здорово! Пропуски \"повержены\". Что там с артефактами?\n",
        "</div>"
      ]
    },
    {
      "cell_type": "markdown",
      "metadata": {
        "id": "m4kqQEkX9KvA"
      },
      "source": [
        "#### Артефакт (минус 1) в столбце children заполню '1'"
      ]
    },
    {
      "cell_type": "code",
      "execution_count": null,
      "metadata": {
        "id": "MIKWmhwo9KvA"
      },
      "outputs": [],
      "source": [
        "df.loc[df['children'] == -1, 'children'] = 1"
      ]
    },
    {
      "cell_type": "code",
      "execution_count": null,
      "metadata": {
        "id": "NjmTcFyD9KvB",
        "outputId": "cef89881-ef26-4efb-da65-be365ea4e3aa"
      },
      "outputs": [
        {
          "data": {
            "text/plain": [
              "array([ 1,  0,  3,  2,  4, 20,  5])"
            ]
          },
          "execution_count": 32,
          "metadata": {},
          "output_type": "execute_result"
        }
      ],
      "source": [
        "df['children'].unique()"
      ]
    },
    {
      "cell_type": "markdown",
      "metadata": {
        "id": "gjSOpbaL9KvB"
      },
      "source": [
        "#### Поиск нулей"
      ]
    },
    {
      "cell_type": "code",
      "execution_count": null,
      "metadata": {
        "id": "9hZkakry9KvB",
        "outputId": "e50f3026-231b-4fa4-ed12-1e42e4356cc6"
      },
      "outputs": [
        {
          "name": "stdout",
          "output_type": "stream",
          "text": [
            "<class 'pandas.core.frame.DataFrame'>\n",
            "RangeIndex: 21525 entries, 0 to 21524\n",
            "Data columns (total 12 columns):\n",
            "children            21525 non-null int64\n",
            "days_employed       21525 non-null float64\n",
            "dob_years           21525 non-null int64\n",
            "education           21525 non-null object\n",
            "education_id        21525 non-null int64\n",
            "family_status       21525 non-null object\n",
            "family_status_id    21525 non-null int64\n",
            "gender              21525 non-null object\n",
            "income_type         21525 non-null object\n",
            "debt                21525 non-null int64\n",
            "total_income        21525 non-null float64\n",
            "purpose             21525 non-null object\n",
            "dtypes: float64(2), int64(5), object(5)\n",
            "memory usage: 2.0+ MB\n"
          ]
        }
      ],
      "source": [
        "df.info()"
      ]
    },
    {
      "cell_type": "code",
      "execution_count": null,
      "metadata": {
        "id": "3kC1Idm79KvB",
        "outputId": "42281c1b-5502-4a36-b4f1-2682cd87b67a"
      },
      "outputs": [
        {
          "data": {
            "text/html": [
              "<div>\n",
              "<style scoped>\n",
              "    .dataframe tbody tr th:only-of-type {\n",
              "        vertical-align: middle;\n",
              "    }\n",
              "\n",
              "    .dataframe tbody tr th {\n",
              "        vertical-align: top;\n",
              "    }\n",
              "\n",
              "    .dataframe thead th {\n",
              "        text-align: right;\n",
              "    }\n",
              "</style>\n",
              "<table border=\"1\" class=\"dataframe\">\n",
              "  <thead>\n",
              "    <tr style=\"text-align: right;\">\n",
              "      <th></th>\n",
              "      <th>children</th>\n",
              "      <th>days_employed</th>\n",
              "      <th>dob_years</th>\n",
              "      <th>education</th>\n",
              "      <th>education_id</th>\n",
              "      <th>family_status</th>\n",
              "      <th>family_status_id</th>\n",
              "      <th>gender</th>\n",
              "      <th>income_type</th>\n",
              "      <th>debt</th>\n",
              "      <th>total_income</th>\n",
              "      <th>purpose</th>\n",
              "    </tr>\n",
              "  </thead>\n",
              "  <tbody>\n",
              "    <tr>\n",
              "      <td>99</td>\n",
              "      <td>0</td>\n",
              "      <td>14439.234121</td>\n",
              "      <td>0</td>\n",
              "      <td>Среднее</td>\n",
              "      <td>1</td>\n",
              "      <td>женат / замужем</td>\n",
              "      <td>0</td>\n",
              "      <td>F</td>\n",
              "      <td>пенсионер</td>\n",
              "      <td>0</td>\n",
              "      <td>71291.522491</td>\n",
              "      <td>автомобиль</td>\n",
              "    </tr>\n",
              "    <tr>\n",
              "      <td>149</td>\n",
              "      <td>0</td>\n",
              "      <td>2664.273168</td>\n",
              "      <td>0</td>\n",
              "      <td>среднее</td>\n",
              "      <td>1</td>\n",
              "      <td>в разводе</td>\n",
              "      <td>3</td>\n",
              "      <td>F</td>\n",
              "      <td>сотрудник</td>\n",
              "      <td>0</td>\n",
              "      <td>70176.435951</td>\n",
              "      <td>операции с жильем</td>\n",
              "    </tr>\n",
              "    <tr>\n",
              "      <td>270</td>\n",
              "      <td>3</td>\n",
              "      <td>1872.663186</td>\n",
              "      <td>0</td>\n",
              "      <td>среднее</td>\n",
              "      <td>1</td>\n",
              "      <td>женат / замужем</td>\n",
              "      <td>0</td>\n",
              "      <td>F</td>\n",
              "      <td>сотрудник</td>\n",
              "      <td>0</td>\n",
              "      <td>102166.458894</td>\n",
              "      <td>ремонт жилью</td>\n",
              "    </tr>\n",
              "    <tr>\n",
              "      <td>578</td>\n",
              "      <td>0</td>\n",
              "      <td>16577.356876</td>\n",
              "      <td>0</td>\n",
              "      <td>среднее</td>\n",
              "      <td>1</td>\n",
              "      <td>женат / замужем</td>\n",
              "      <td>0</td>\n",
              "      <td>F</td>\n",
              "      <td>пенсионер</td>\n",
              "      <td>0</td>\n",
              "      <td>97620.687042</td>\n",
              "      <td>строительство собственной недвижимости</td>\n",
              "    </tr>\n",
              "    <tr>\n",
              "      <td>1040</td>\n",
              "      <td>0</td>\n",
              "      <td>1158.029561</td>\n",
              "      <td>0</td>\n",
              "      <td>высшее</td>\n",
              "      <td>0</td>\n",
              "      <td>в разводе</td>\n",
              "      <td>3</td>\n",
              "      <td>F</td>\n",
              "      <td>компаньон</td>\n",
              "      <td>0</td>\n",
              "      <td>303994.134987</td>\n",
              "      <td>свой автомобиль</td>\n",
              "    </tr>\n",
              "    <tr>\n",
              "      <td>...</td>\n",
              "      <td>...</td>\n",
              "      <td>...</td>\n",
              "      <td>...</td>\n",
              "      <td>...</td>\n",
              "      <td>...</td>\n",
              "      <td>...</td>\n",
              "      <td>...</td>\n",
              "      <td>...</td>\n",
              "      <td>...</td>\n",
              "      <td>...</td>\n",
              "      <td>...</td>\n",
              "      <td>...</td>\n",
              "    </tr>\n",
              "    <tr>\n",
              "      <td>19829</td>\n",
              "      <td>0</td>\n",
              "      <td>1759.038033</td>\n",
              "      <td>0</td>\n",
              "      <td>среднее</td>\n",
              "      <td>1</td>\n",
              "      <td>женат / замужем</td>\n",
              "      <td>0</td>\n",
              "      <td>F</td>\n",
              "      <td>сотрудник</td>\n",
              "      <td>0</td>\n",
              "      <td>142594.396847</td>\n",
              "      <td>жилье</td>\n",
              "    </tr>\n",
              "    <tr>\n",
              "      <td>20462</td>\n",
              "      <td>0</td>\n",
              "      <td>14113.952856</td>\n",
              "      <td>0</td>\n",
              "      <td>среднее</td>\n",
              "      <td>1</td>\n",
              "      <td>женат / замужем</td>\n",
              "      <td>0</td>\n",
              "      <td>F</td>\n",
              "      <td>пенсионер</td>\n",
              "      <td>0</td>\n",
              "      <td>259193.920299</td>\n",
              "      <td>покупка своего жилья</td>\n",
              "    </tr>\n",
              "    <tr>\n",
              "      <td>20577</td>\n",
              "      <td>0</td>\n",
              "      <td>13822.552977</td>\n",
              "      <td>0</td>\n",
              "      <td>среднее</td>\n",
              "      <td>1</td>\n",
              "      <td>Не женат / не замужем</td>\n",
              "      <td>4</td>\n",
              "      <td>F</td>\n",
              "      <td>пенсионер</td>\n",
              "      <td>0</td>\n",
              "      <td>129788.762899</td>\n",
              "      <td>недвижимость</td>\n",
              "    </tr>\n",
              "    <tr>\n",
              "      <td>21179</td>\n",
              "      <td>2</td>\n",
              "      <td>108.967042</td>\n",
              "      <td>0</td>\n",
              "      <td>высшее</td>\n",
              "      <td>0</td>\n",
              "      <td>женат / замужем</td>\n",
              "      <td>0</td>\n",
              "      <td>M</td>\n",
              "      <td>компаньон</td>\n",
              "      <td>0</td>\n",
              "      <td>240702.007382</td>\n",
              "      <td>строительство жилой недвижимости</td>\n",
              "    </tr>\n",
              "    <tr>\n",
              "      <td>21313</td>\n",
              "      <td>0</td>\n",
              "      <td>1268.487728</td>\n",
              "      <td>0</td>\n",
              "      <td>среднее</td>\n",
              "      <td>1</td>\n",
              "      <td>Не женат / не замужем</td>\n",
              "      <td>4</td>\n",
              "      <td>M</td>\n",
              "      <td>сотрудник</td>\n",
              "      <td>0</td>\n",
              "      <td>152419.184851</td>\n",
              "      <td>операции с жильем</td>\n",
              "    </tr>\n",
              "  </tbody>\n",
              "</table>\n",
              "<p>101 rows × 12 columns</p>\n",
              "</div>"
            ],
            "text/plain": [
              "       children  days_employed  dob_years education  education_id  \\\n",
              "99            0   14439.234121          0   Среднее             1   \n",
              "149           0    2664.273168          0   среднее             1   \n",
              "270           3    1872.663186          0   среднее             1   \n",
              "578           0   16577.356876          0   среднее             1   \n",
              "1040          0    1158.029561          0    высшее             0   \n",
              "...         ...            ...        ...       ...           ...   \n",
              "19829         0    1759.038033          0   среднее             1   \n",
              "20462         0   14113.952856          0   среднее             1   \n",
              "20577         0   13822.552977          0   среднее             1   \n",
              "21179         2     108.967042          0    высшее             0   \n",
              "21313         0    1268.487728          0   среднее             1   \n",
              "\n",
              "               family_status  family_status_id gender income_type  debt  \\\n",
              "99           женат / замужем                 0      F   пенсионер     0   \n",
              "149                в разводе                 3      F   сотрудник     0   \n",
              "270          женат / замужем                 0      F   сотрудник     0   \n",
              "578          женат / замужем                 0      F   пенсионер     0   \n",
              "1040               в разводе                 3      F   компаньон     0   \n",
              "...                      ...               ...    ...         ...   ...   \n",
              "19829        женат / замужем                 0      F   сотрудник     0   \n",
              "20462        женат / замужем                 0      F   пенсионер     0   \n",
              "20577  Не женат / не замужем                 4      F   пенсионер     0   \n",
              "21179        женат / замужем                 0      M   компаньон     0   \n",
              "21313  Не женат / не замужем                 4      M   сотрудник     0   \n",
              "\n",
              "        total_income                                 purpose  \n",
              "99      71291.522491                              автомобиль  \n",
              "149     70176.435951                       операции с жильем  \n",
              "270    102166.458894                            ремонт жилью  \n",
              "578     97620.687042  строительство собственной недвижимости  \n",
              "1040   303994.134987                         свой автомобиль  \n",
              "...              ...                                     ...  \n",
              "19829  142594.396847                                   жилье  \n",
              "20462  259193.920299                    покупка своего жилья  \n",
              "20577  129788.762899                            недвижимость  \n",
              "21179  240702.007382        строительство жилой недвижимости  \n",
              "21313  152419.184851                       операции с жильем  \n",
              "\n",
              "[101 rows x 12 columns]"
            ]
          },
          "execution_count": 34,
          "metadata": {},
          "output_type": "execute_result"
        }
      ],
      "source": [
        "df.loc[df['dob_years'] == 0] \n",
        "#Возраст 0? не увидел групп с которыми можно сопоставить для заполнения по похожим значениям, остается как есть"
      ]
    },
    {
      "cell_type": "code",
      "execution_count": null,
      "metadata": {
        "id": "SBsw7eJF9KvC",
        "outputId": "8805c1bc-38d3-45d0-cda8-ee5a3d9531be"
      },
      "outputs": [
        {
          "data": {
            "text/plain": [
              "array(['F', 'M', 'XNA'], dtype=object)"
            ]
          },
          "execution_count": 35,
          "metadata": {},
          "output_type": "execute_result"
        }
      ],
      "source": [
        "df['gender'].unique() # Непонятное значение в одной записи в столбце \"пол\" = 'XNA'"
      ]
    },
    {
      "cell_type": "code",
      "execution_count": null,
      "metadata": {
        "id": "ekl519Kl9KvC",
        "outputId": "3ff60419-8ba0-4bc9-a2a4-44cc1aab33ee"
      },
      "outputs": [
        {
          "data": {
            "text/html": [
              "<div>\n",
              "<style scoped>\n",
              "    .dataframe tbody tr th:only-of-type {\n",
              "        vertical-align: middle;\n",
              "    }\n",
              "\n",
              "    .dataframe tbody tr th {\n",
              "        vertical-align: top;\n",
              "    }\n",
              "\n",
              "    .dataframe thead th {\n",
              "        text-align: right;\n",
              "    }\n",
              "</style>\n",
              "<table border=\"1\" class=\"dataframe\">\n",
              "  <thead>\n",
              "    <tr style=\"text-align: right;\">\n",
              "      <th></th>\n",
              "      <th>children</th>\n",
              "      <th>days_employed</th>\n",
              "      <th>dob_years</th>\n",
              "      <th>education</th>\n",
              "      <th>education_id</th>\n",
              "      <th>family_status</th>\n",
              "      <th>family_status_id</th>\n",
              "      <th>gender</th>\n",
              "      <th>income_type</th>\n",
              "      <th>debt</th>\n",
              "      <th>total_income</th>\n",
              "      <th>purpose</th>\n",
              "    </tr>\n",
              "  </thead>\n",
              "  <tbody>\n",
              "    <tr>\n",
              "      <td>10701</td>\n",
              "      <td>0</td>\n",
              "      <td>2358.600502</td>\n",
              "      <td>24</td>\n",
              "      <td>неоконченное высшее</td>\n",
              "      <td>2</td>\n",
              "      <td>гражданский брак</td>\n",
              "      <td>1</td>\n",
              "      <td>XNA</td>\n",
              "      <td>компаньон</td>\n",
              "      <td>0</td>\n",
              "      <td>203905.157261</td>\n",
              "      <td>покупка недвижимости</td>\n",
              "    </tr>\n",
              "  </tbody>\n",
              "</table>\n",
              "</div>"
            ],
            "text/plain": [
              "       children  days_employed  dob_years            education  education_id  \\\n",
              "10701         0    2358.600502         24  неоконченное высшее             2   \n",
              "\n",
              "          family_status  family_status_id gender income_type  debt  \\\n",
              "10701  гражданский брак                 1    XNA   компаньон     0   \n",
              "\n",
              "        total_income               purpose  \n",
              "10701  203905.157261  покупка недвижимости  "
            ]
          },
          "execution_count": 36,
          "metadata": {},
          "output_type": "execute_result"
        }
      ],
      "source": [
        "df.loc[df['gender'] == 'XNA'] # просрочке по этой записи нет. Остается как есть. Величина не влияет на результаты"
      ]
    },
    {
      "cell_type": "markdown",
      "metadata": {
        "id": "MLifhMfz9KvC"
      },
      "source": [
        "### Вывод"
      ]
    },
    {
      "cell_type": "markdown",
      "metadata": {
        "id": "vYzUkrzb9KvC"
      },
      "source": [
        "1) заполнены пропуски по данным \"доходы\" средним значением по типу занятости (как наиболее зависимыми с доходом, из текущих данных). Применена универсальная конструкция по замене среднего с указанием связанного критерия. Данные готовы для анализа\n",
        "\n",
        "2) данные \"Трудовой стаж\": выявленое множество отрицательных значений заменено на положительные значения (из предположения, что это ошибка знака). Выявлена группа некорректных значений в верхнем диапазоне максимума - произведено деление на 24 часа (из предположения, что данные указаны не годах, а в часах. Пропуски заполнены средним значением по возрасту (как наиболее зависимыми со стажем, из текущих данных). Применена универсальная конструкция по замене среднего с указанием связанного критерия. \n",
        "\n",
        "3) артефакт (значение минус 1) по данным \"Дети\" исправлено на положительное значение. Предполагаю, что это был лишний знак.\n",
        "\n",
        "4) Выявлены нулевые значения  dob_years' Возраст 0? не увидел групп с которыми можно сопоставить для заполнения по похожим значениям, остается как есть. Обратить внимание.\n",
        "\n",
        "5) Непонятное значение в одной записи в столбце \"пол\" = 'XNA'. просрочке по этой записи нет. Остается как есть. Величина не влияет на результаты.\n",
        "\n",
        "  Данные готовы для анализа по заданным критериям.\n"
      ]
    },
    {
      "cell_type": "markdown",
      "metadata": {
        "id": "4wM10bs19KvD"
      },
      "source": [
        "<div class=\"alert alert-danger\">\n",
        "\n",
        "### Комментарий ревьюера\n",
        "\n",
        "Ок, не переживай, тут есть что поправить:\n",
        "- пропуски в опыте: можно заполнить нулем/единицей или одной медианой/средним, да, но в учебных целях было бы лучше обработать более тщательно. Тем более там нет ничего страшного. Проверь на наличие минусов.  Затем следует обратить внимание на черезчур большие значения в большом количестве строк - при пересчете на года они дают 800-1100 лет опыта (просто поделив на 365!), что неприемлемо. Тогда возможно это и не дни вовсе (не все, а только эти \"великаны\")?! Возможно достаточно просто поделить большие значения на 24 и все, данные (имеющиеся) будут готовы (обработаны). А насчет заполнения пропусков: вот теперь, когда все имеющиеся значения корректны - можно будет и подумать чем заполнить пропуски... тут можно кастомизировать заполнение пропусков , например, по возрату или по типу занятости. Просто если заполнить пропуски одной общей медианой (средним), то появятся заемщики у которых опыт больше возраста. Но это уже так...рассуждения )\n",
        "    \n",
        "- пропуски в доходе: заполнить единицей или одним общим средним/медианой было бы допустимо, если данные не содержили бы больше никаких других полей по которым можно разделить заемщиков. Как ты думаешь предприниматели и студенты будут иметь одинаковый средний/медианный доход? ;)\n",
        "- помимо явных пропусков таблица еще может содержать неявные - нули. На них тоже следует обратить внимание. ( это не означает что их обязательно как-то обрабатывать или удалять, главное - найти)\n",
        "- артефакт \"-1\" в количестве детей - может это просто лишний знак \"тире\" и по факту это \"1\".\n",
        "- в столбце с полом тоже есть кое-какой артефакт: найдем? ;)\n",
        "- вывод - это место где необходимо не только описывать проделанную работу, но и излагать собственные мысли - почему именно так было выполнено заполнение пропусков? были ли еще варианты? чем таблица теперь лучше?\n",
        "    \n",
        "</div>"
      ]
    },
    {
      "cell_type": "markdown",
      "metadata": {
        "id": "Zndm8lGX9KvD"
      },
      "source": [
        "<div class=\"alert alert-success\">\n",
        "\n",
        "### Комментарий ревьюера 2\n",
        "\n",
        "Теперь все очень здорово\n",
        "</div>"
      ]
    },
    {
      "cell_type": "markdown",
      "metadata": {
        "id": "0UUw6Db29KvD"
      },
      "source": [
        "### Замена типа данных"
      ]
    },
    {
      "cell_type": "code",
      "execution_count": null,
      "metadata": {
        "id": "_UdPqxAw9KvD",
        "outputId": "5fb3e95d-1491-4a91-c206-7b0fefba3794"
      },
      "outputs": [
        {
          "data": {
            "text/plain": [
              "('Проверим типы данных анализируемых значений',\n",
              " children              int64\n",
              " days_employed       float64\n",
              " dob_years             int64\n",
              " education            object\n",
              " education_id          int64\n",
              " family_status        object\n",
              " family_status_id      int64\n",
              " gender               object\n",
              " income_type          object\n",
              " debt                  int64\n",
              " total_income        float64\n",
              " purpose              object\n",
              " dtype: object)"
            ]
          },
          "execution_count": 37,
          "metadata": {},
          "output_type": "execute_result"
        }
      ],
      "source": [
        "'Проверим типы данных анализируемых значений', df.dtypes"
      ]
    },
    {
      "cell_type": "code",
      "execution_count": null,
      "metadata": {
        "id": "g7SWf0O59KvD",
        "outputId": "e764aa6d-9774-4fc3-af6f-a482a74f7caf"
      },
      "outputs": [
        {
          "data": {
            "text/plain": [
              "0     8437.673028\n",
              "1     4024.803754\n",
              "2     5623.422610\n",
              "3     4124.747207\n",
              "4    14177.753002\n",
              "Name: days_employed, dtype: float64"
            ]
          },
          "execution_count": 38,
          "metadata": {},
          "output_type": "execute_result"
        }
      ],
      "source": [
        "df['days_employed'].head()"
      ]
    },
    {
      "cell_type": "code",
      "execution_count": null,
      "metadata": {
        "id": "C13JAIK09KvE"
      },
      "outputs": [],
      "source": [
        "'Десятые значения не влияют на значение и мешают восприятию данных. Отражу только целые значения заменив тип float64 на int64',\n",
        "df['days_employed'] = df['days_employed'].astype(int)"
      ]
    },
    {
      "cell_type": "code",
      "execution_count": null,
      "metadata": {
        "id": "31ILg3UQ9KvE",
        "outputId": "5359b07d-acdd-44ba-b39b-09efa71daa4f"
      },
      "outputs": [
        {
          "data": {
            "text/plain": [
              "0     8437\n",
              "1     4024\n",
              "2     5623\n",
              "3     4124\n",
              "4    14177\n",
              "Name: days_employed, dtype: int64"
            ]
          },
          "execution_count": 40,
          "metadata": {},
          "output_type": "execute_result"
        }
      ],
      "source": [
        "df['days_employed'].head()"
      ]
    },
    {
      "cell_type": "code",
      "execution_count": null,
      "metadata": {
        "id": "XMnoBPFy9KvE",
        "outputId": "e0a45de8-072a-4090-dc4e-f7219320a3e2"
      },
      "outputs": [
        {
          "data": {
            "text/plain": [
              "0    253875.639453\n",
              "1    112080.014102\n",
              "2    145885.952297\n",
              "3    267628.550329\n",
              "4    158616.077870\n",
              "Name: total_income, dtype: float64"
            ]
          },
          "execution_count": 41,
          "metadata": {},
          "output_type": "execute_result"
        }
      ],
      "source": [
        "df['total_income'].head()"
      ]
    },
    {
      "cell_type": "code",
      "execution_count": null,
      "metadata": {
        "id": "Y7gEQNiP9KvE"
      },
      "outputs": [],
      "source": [
        "'Десятые значения не влияют на анализ и мешают восприятию данных. Отражу только целые значения заменив тип float64 на int64',\n",
        "df['total_income'] = df['total_income'].astype(int)"
      ]
    },
    {
      "cell_type": "code",
      "execution_count": null,
      "metadata": {
        "id": "nSmYJjXD9KvF",
        "outputId": "bb261d2e-b59e-4f4a-c657-3702763e4f41"
      },
      "outputs": [
        {
          "data": {
            "text/plain": [
              "0    253875\n",
              "1    112080\n",
              "2    145885\n",
              "3    267628\n",
              "4    158616\n",
              "Name: total_income, dtype: int64"
            ]
          },
          "execution_count": 43,
          "metadata": {},
          "output_type": "execute_result"
        }
      ],
      "source": [
        "df['total_income'].head()"
      ]
    },
    {
      "cell_type": "code",
      "execution_count": null,
      "metadata": {
        "id": "c1ozOy8x9KvF",
        "outputId": "9393b273-bfb4-47bd-d16a-d05c6307e4c2"
      },
      "outputs": [
        {
          "name": "stdout",
          "output_type": "stream",
          "text": [
            "<class 'pandas.core.frame.DataFrame'>\n",
            "RangeIndex: 21525 entries, 0 to 21524\n",
            "Data columns (total 12 columns):\n",
            "children            21525 non-null int64\n",
            "days_employed       21525 non-null int64\n",
            "dob_years           21525 non-null int64\n",
            "education           21525 non-null object\n",
            "education_id        21525 non-null int64\n",
            "family_status       21525 non-null object\n",
            "family_status_id    21525 non-null int64\n",
            "gender              21525 non-null object\n",
            "income_type         21525 non-null object\n",
            "debt                21525 non-null int64\n",
            "total_income        21525 non-null int64\n",
            "purpose             21525 non-null object\n",
            "dtypes: int64(7), object(5)\n",
            "memory usage: 2.0+ MB\n"
          ]
        }
      ],
      "source": [
        "df.info()"
      ]
    },
    {
      "cell_type": "markdown",
      "metadata": {
        "id": "p2N-fLbF9KvF"
      },
      "source": [
        "### Вывод\n"
      ]
    },
    {
      "cell_type": "markdown",
      "metadata": {
        "id": "F1mJ6h8D9KvF"
      },
      "source": [
        "#### Выявленные дробные значения, которые не влияют на точность анализа и мешают восприятию данных.\n",
        "\n",
        "Произведена замена типа хранения с float64 на int64 данных total_income, days_employed  \n",
        "Теперь отражены только целые значения. "
      ]
    },
    {
      "cell_type": "markdown",
      "metadata": {
        "id": "wurSiMfn9KvG"
      },
      "source": [
        "<div class=\"alert alert-danger\">\n",
        "\n",
        "### Комментарий ревьюера\n",
        "\n",
        "- опыт исходя легенде проекта - в днях. нужны ли нам там десятые доли?\n",
        "- доход: у нас нет информации о валюте и стране, т.е. это могут быть хоть индийский рупии. но тем не менее 100500 знаков после запятой тут лишние. \n",
        "</div>"
      ]
    },
    {
      "cell_type": "markdown",
      "metadata": {
        "id": "c1sjQyXl9KvG"
      },
      "source": [
        "<div class=\"alert alert-success\">\n",
        "\n",
        "### Комментарий ревьюера 2\n",
        "\n",
        "Готово\n",
        "</div>"
      ]
    },
    {
      "cell_type": "markdown",
      "metadata": {
        "id": "VsfT8uhp9KvG"
      },
      "source": [
        "### Обработка дубликатов"
      ]
    },
    {
      "cell_type": "code",
      "execution_count": null,
      "metadata": {
        "id": "1GvQVnim9KvG",
        "outputId": "8905465a-5e40-4a1d-8804-38d6213a4daf"
      },
      "outputs": [
        {
          "data": {
            "text/plain": [
              "('дубликаты в данных \"образование\":',\n",
              " среднее                13750\n",
              " высшее                  4718\n",
              " СРЕДНЕЕ                  772\n",
              " Среднее                  711\n",
              " неоконченное высшее      668\n",
              " ВЫСШЕЕ                   274\n",
              " Высшее                   268\n",
              " начальное                250\n",
              " Неоконченное высшее       47\n",
              " НЕОКОНЧЕННОЕ ВЫСШЕЕ       29\n",
              " НАЧАЛЬНОЕ                 17\n",
              " Начальное                 15\n",
              " ученая степень             4\n",
              " УЧЕНАЯ СТЕПЕНЬ             1\n",
              " Ученая степень             1\n",
              " Name: education, dtype: int64)"
            ]
          },
          "execution_count": 45,
          "metadata": {},
          "output_type": "execute_result"
        }
      ],
      "source": [
        "'дубликаты в данных \"образование\":', df['education'].value_counts()"
      ]
    },
    {
      "cell_type": "code",
      "execution_count": null,
      "metadata": {
        "id": "4h4VXjCx9KvG"
      },
      "outputs": [],
      "source": [
        "df['education'] = df['education'].str.lower()"
      ]
    },
    {
      "cell_type": "code",
      "execution_count": null,
      "metadata": {
        "id": "WrynmZsW9KvH",
        "outputId": "7619fc4c-70e8-4659-a907-e3b35c19ef37"
      },
      "outputs": [
        {
          "data": {
            "text/plain": [
              "('Сделана замена дубликатов в данных Образование',\n",
              " среднее                15233\n",
              " высшее                  5260\n",
              " неоконченное высшее      744\n",
              " начальное                282\n",
              " ученая степень             6\n",
              " Name: education, dtype: int64)"
            ]
          },
          "execution_count": 47,
          "metadata": {},
          "output_type": "execute_result"
        }
      ],
      "source": [
        "'Сделана замена дубликатов в данных Образование', df['education'].value_counts()"
      ]
    },
    {
      "cell_type": "markdown",
      "metadata": {
        "id": "7dNtyfXm9KvH"
      },
      "source": [
        "### Вывод\n",
        "Данные дублируются за счет различных регистров.\n",
        "\n",
        "Все написания приведены в нижний регистр (с заменой), за счет этого проивзедена четкая группировка. \n",
        "\n"
      ]
    },
    {
      "cell_type": "markdown",
      "metadata": {
        "id": "mJ6-dE5E9KvH"
      },
      "source": [
        "<div class=\"alert alert-danger\">\n",
        "\n",
        "### Комментарий ревьюера\n",
        "\n",
        "Обработка дубликатов подразумевает работу с полными дублями строк таблицы (удаление их). Поэтому предлагаю в данном пункте найти такие и удалить. И не забудь про регистры перед этим\n",
        "</div>"
      ]
    },
    {
      "cell_type": "code",
      "execution_count": null,
      "metadata": {
        "id": "8wwMJOWv9KvH",
        "outputId": "b88523f0-2c32-40ef-c1a4-e59bc8ea693d"
      },
      "outputs": [
        {
          "data": {
            "text/plain": [
              "71"
            ]
          },
          "execution_count": 48,
          "metadata": {},
          "output_type": "execute_result"
        }
      ],
      "source": [
        "df.duplicated().sum()"
      ]
    },
    {
      "cell_type": "markdown",
      "metadata": {
        "id": "BpxIZVfV9KvH"
      },
      "source": [
        "<div class=\"alert alert-danger\">\n",
        "\n",
        "### Комментарий ревьюера 2\n",
        "\n",
        "Так, с регистрами разобрался - молодец. А что насчет непосредственно дублей? имею ввиду полные дубли строк. Они все еще на месте и их следовало бы удалить\n",
        "</div>"
      ]
    },
    {
      "cell_type": "markdown",
      "metadata": {
        "id": "6CZcZEnp9KvI"
      },
      "source": [
        "### Лемматизация"
      ]
    },
    {
      "cell_type": "code",
      "execution_count": null,
      "metadata": {
        "id": "kvziIa459KvI",
        "outputId": "7d6c46fe-c0ad-4553-c67e-37de0224b375"
      },
      "outputs": [
        {
          "data": {
            "text/plain": [
              "array(['покупка жилья', 'приобретение автомобиля',\n",
              "       'дополнительное образование', 'сыграть свадьбу',\n",
              "       'операции с жильем', 'образование', 'на проведение свадьбы',\n",
              "       'покупка жилья для семьи', 'покупка недвижимости',\n",
              "       'покупка коммерческой недвижимости', 'покупка жилой недвижимости',\n",
              "       'строительство собственной недвижимости', 'недвижимость',\n",
              "       'строительство недвижимости', 'на покупку подержанного автомобиля',\n",
              "       'на покупку своего автомобиля',\n",
              "       'операции с коммерческой недвижимостью',\n",
              "       'строительство жилой недвижимости', 'жилье',\n",
              "       'операции со своей недвижимостью', 'автомобили',\n",
              "       'заняться образованием', 'сделка с подержанным автомобилем',\n",
              "       'получение образования', 'автомобиль', 'свадьба',\n",
              "       'получение дополнительного образования', 'покупка своего жилья',\n",
              "       'операции с недвижимостью', 'получение высшего образования',\n",
              "       'свой автомобиль', 'сделка с автомобилем',\n",
              "       'профильное образование', 'высшее образование',\n",
              "       'покупка жилья для сдачи', 'на покупку автомобиля', 'ремонт жилью',\n",
              "       'заняться высшим образованием'], dtype=object)"
            ]
          },
          "execution_count": 49,
          "metadata": {},
          "output_type": "execute_result"
        }
      ],
      "source": [
        "queries = df['purpose'].unique()\n",
        "queries"
      ]
    },
    {
      "cell_type": "code",
      "execution_count": null,
      "metadata": {
        "id": "ULiIDqyO9KvL",
        "outputId": "c376e0d5-4f55-41be-a64e-c33cdf622aae"
      },
      "outputs": [
        {
          "name": "stdout",
          "output_type": "stream",
          "text": [
            "покупка жилья\n",
            "операции с жильем\n",
            "покупка жилья для семьи\n",
            "покупка жилой недвижимости\n",
            "строительство жилой недвижимости\n",
            "жилье\n",
            "покупка своего жилья\n",
            "покупка жилья для сдачи\n",
            "ремонт жилью\n"
          ]
        }
      ],
      "source": [
        "for query in queries:\n",
        "    if 'жил' in query:\n",
        "        print(query)"
      ]
    },
    {
      "cell_type": "code",
      "execution_count": null,
      "metadata": {
        "id": "PFuJL2B49KvL",
        "outputId": "8704b62d-df9e-401e-d2e8-f61328685aec"
      },
      "outputs": [
        {
          "name": "stdout",
          "output_type": "stream",
          "text": [
            "покупка недвижимости\n",
            "покупка коммерческой недвижимости\n",
            "покупка жилой недвижимости\n",
            "строительство собственной недвижимости\n",
            "недвижимость\n",
            "строительство недвижимости\n",
            "операции с коммерческой недвижимостью\n",
            "строительство жилой недвижимости\n",
            "операции со своей недвижимостью\n",
            "операции с недвижимостью\n"
          ]
        }
      ],
      "source": [
        "for query in queries:\n",
        "    if 'недв' in query:\n",
        "        print(query)"
      ]
    },
    {
      "cell_type": "code",
      "execution_count": null,
      "metadata": {
        "id": "K8IRi7hO9KvM",
        "outputId": "e4faf60d-59c4-4e67-cdc9-aac36e2a7862"
      },
      "outputs": [
        {
          "name": "stdout",
          "output_type": "stream",
          "text": [
            "приобретение автомобиля\n",
            "на покупку подержанного автомобиля\n",
            "на покупку своего автомобиля\n",
            "автомобили\n",
            "сделка с подержанным автомобилем\n",
            "автомобиль\n",
            "свой автомобиль\n",
            "сделка с автомобилем\n",
            "на покупку автомобиля\n"
          ]
        }
      ],
      "source": [
        "for query in queries:\n",
        "    if 'автом' in query:\n",
        "        print(query)"
      ]
    },
    {
      "cell_type": "code",
      "execution_count": null,
      "metadata": {
        "id": "Yjv-3cK29KvM",
        "outputId": "ebddc764-b3ad-4c1f-fb71-5f0ce59e7488"
      },
      "outputs": [
        {
          "name": "stdout",
          "output_type": "stream",
          "text": [
            "ремонт жилью\n"
          ]
        }
      ],
      "source": [
        "for query in queries:\n",
        "    if 'рем' in query:\n",
        "        print(query)"
      ]
    },
    {
      "cell_type": "code",
      "execution_count": null,
      "metadata": {
        "id": "MWXx6-DA9KvM",
        "outputId": "759419e3-aef6-4fc3-959c-ac1cda8bd0c1"
      },
      "outputs": [
        {
          "name": "stdout",
          "output_type": "stream",
          "text": [
            "дополнительное образование\n",
            "образование\n",
            "заняться образованием\n",
            "получение образования\n",
            "получение дополнительного образования\n",
            "получение высшего образования\n",
            "профильное образование\n",
            "высшее образование\n",
            "заняться высшим образованием\n"
          ]
        }
      ],
      "source": [
        "for query in queries:\n",
        "    if 'образ' in query:\n",
        "        print(query)"
      ]
    },
    {
      "cell_type": "markdown",
      "metadata": {
        "id": "aW9OBSC39KvN"
      },
      "source": [
        "### Вывод"
      ]
    },
    {
      "cell_type": "markdown",
      "metadata": {
        "id": "aVettfPT9KvN"
      },
      "source": [
        "Выявленные составляющие каждой категории цели кредита. Причиной разрозненности данных может быть заполнение цели \"со слов заемщика\" в дальнейшем целесообразно для уменьшения ошибок и снижения временных затрат на анализ и обработку - формировать базу данных сразу по категориям. \n",
        "\n",
        "Не удалось здесь применить lemmatize для выделения слов. Проблема формулировки \"ремонт жилью\" будет относится к категории \"Ремонт\" и \"Недвижимость\". Текущее решение для категоризации сначала замена для категории \"Ремонт\".\n",
        "\n",
        "Значение в столбце 'purpose', содержащие:\n",
        "\n",
        "    'автом' будет заменено в Категоризации на одно слово = 'автомобиль' и так далее:\n",
        "    'рем' = 'ремонт'\n",
        "    'свадь' = 'свадьба'\n",
        "    'жиль' = 'недвижимость'\n",
        "    'образ' = 'образование'\n",
        "    'недвиж' = 'недвижимость'\n",
        "Всего будет четыре категории целей: 'недвижимость', 'ремонт', 'свадьба', 'образование'\n"
      ]
    },
    {
      "cell_type": "markdown",
      "metadata": {
        "id": "krMSI2Ys9KvN"
      },
      "source": [
        "<div class=\"alert alert-success\">\n",
        "\n",
        "### Комментарий ревьюера\n",
        "\n",
        "Да, здорово. Лемматизация проведена верно\n",
        "</div>"
      ]
    },
    {
      "cell_type": "markdown",
      "metadata": {
        "id": "CniJNXBH9KvN"
      },
      "source": [
        "### Категоризация данных"
      ]
    },
    {
      "cell_type": "markdown",
      "metadata": {
        "id": "XBvqxaox9KvN"
      },
      "source": [
        "#### <font color=\"orange\">Отмена:</font>  Замена в данных Дети на две категории 1(да) и 0(нет)"
      ]
    },
    {
      "cell_type": "code",
      "execution_count": null,
      "metadata": {
        "id": "Y4a6-hTt9KvN"
      },
      "outputs": [],
      "source": [
        "#df.loc[df['children'] > 0, 'children'] = 1 \n",
        "#убрал категоризацию по детям"
      ]
    },
    {
      "cell_type": "markdown",
      "metadata": {
        "id": "UmhxAk4s9KvO"
      },
      "source": [
        "<div class=\"alert alert-danger\">\n",
        "\n",
        "### Комментарий ревьюера\n",
        "\n",
        "В начале проекта я уже писал коментарий на этот счет. Не нужно укрупнять хорошие категории.\n",
        "</div>"
      ]
    },
    {
      "cell_type": "markdown",
      "metadata": {
        "id": "IyvkbGeP9KvO"
      },
      "source": [
        "#### Группировка данных \"Доходы\" для формирования групп (категорий)"
      ]
    },
    {
      "cell_type": "markdown",
      "metadata": {
        "id": "YG3ir9Ja9KvO"
      },
      "source": [
        "Чтобы пранализировать зависимость просрочки от дохода, необходимо доходы сгруппировать по диапазонам. До замены пустых значений распределение дохода было 25% = 103 тыс.ед. дохода; 50% =145тыс.ед.; 75% = 203 тыс.руб. Будет 4 группы: 1) До 103 тыс.; 2) До 145 тыс.; 3) До 203 тыс.; 4) Свыше 203 тыс. "
      ]
    },
    {
      "cell_type": "code",
      "execution_count": null,
      "metadata": {
        "id": "nriYSnMW9KvO"
      },
      "outputs": [],
      "source": [
        "def group_total_income(x):\n",
        "    if x < 103000:\n",
        "        return 'низкий доход <103тыс.ед.'\n",
        "    if x < 145000:\n",
        "        return 'средний дохд <145тыс.ед.'\n",
        "    if x < 203400:\n",
        "        return 'высокий доход <203тыс.ед.'\n",
        "    return 'большой доход >203тыс.ед.'"
      ]
    },
    {
      "cell_type": "code",
      "execution_count": null,
      "metadata": {
        "id": "DQhBHbjI9KvO",
        "outputId": "d95257e1-e9e8-4752-882b-ab8bff9db175"
      },
      "outputs": [
        {
          "data": {
            "text/plain": [
              "'высокий доход <203тыс.ед.'"
            ]
          },
          "execution_count": 57,
          "metadata": {},
          "output_type": "execute_result"
        }
      ],
      "source": [
        "group_total_income(146756)"
      ]
    },
    {
      "cell_type": "code",
      "execution_count": null,
      "metadata": {
        "id": "2YVs3HEN9KvP",
        "outputId": "a9ee12b4-b9f1-48e0-ad6a-e66679f2b112"
      },
      "outputs": [
        {
          "name": "stdout",
          "output_type": "stream",
          "text": [
            "<class 'pandas.core.frame.DataFrame'>\n",
            "RangeIndex: 21525 entries, 0 to 21524\n",
            "Data columns (total 12 columns):\n",
            "children            21525 non-null int64\n",
            "days_employed       21525 non-null int64\n",
            "dob_years           21525 non-null int64\n",
            "education           21525 non-null object\n",
            "education_id        21525 non-null int64\n",
            "family_status       21525 non-null object\n",
            "family_status_id    21525 non-null int64\n",
            "gender              21525 non-null object\n",
            "income_type         21525 non-null object\n",
            "debt                21525 non-null int64\n",
            "total_income        21525 non-null int64\n",
            "purpose             21525 non-null object\n",
            "dtypes: int64(7), object(5)\n",
            "memory usage: 2.0+ MB\n"
          ]
        }
      ],
      "source": [
        "df.info()"
      ]
    },
    {
      "cell_type": "code",
      "execution_count": null,
      "metadata": {
        "scrolled": true,
        "id": "4tKL7Skv9KvP"
      },
      "outputs": [],
      "source": [
        "df['group_total_income'] = df['total_income'].apply(group_total_income)"
      ]
    },
    {
      "cell_type": "code",
      "execution_count": null,
      "metadata": {
        "id": "V8PuU1349KvP",
        "outputId": "a52b55c7-f730-42c9-db63-2ce6e1dafc53"
      },
      "outputs": [
        {
          "data": {
            "text/html": [
              "<div>\n",
              "<style scoped>\n",
              "    .dataframe tbody tr th:only-of-type {\n",
              "        vertical-align: middle;\n",
              "    }\n",
              "\n",
              "    .dataframe tbody tr th {\n",
              "        vertical-align: top;\n",
              "    }\n",
              "\n",
              "    .dataframe thead th {\n",
              "        text-align: right;\n",
              "    }\n",
              "</style>\n",
              "<table border=\"1\" class=\"dataframe\">\n",
              "  <thead>\n",
              "    <tr style=\"text-align: right;\">\n",
              "      <th></th>\n",
              "      <th>children</th>\n",
              "      <th>days_employed</th>\n",
              "      <th>dob_years</th>\n",
              "      <th>education</th>\n",
              "      <th>education_id</th>\n",
              "      <th>family_status</th>\n",
              "      <th>family_status_id</th>\n",
              "      <th>gender</th>\n",
              "      <th>income_type</th>\n",
              "      <th>debt</th>\n",
              "      <th>total_income</th>\n",
              "      <th>purpose</th>\n",
              "      <th>group_total_income</th>\n",
              "    </tr>\n",
              "  </thead>\n",
              "  <tbody>\n",
              "    <tr>\n",
              "      <td>0</td>\n",
              "      <td>1</td>\n",
              "      <td>8437</td>\n",
              "      <td>42</td>\n",
              "      <td>высшее</td>\n",
              "      <td>0</td>\n",
              "      <td>женат / замужем</td>\n",
              "      <td>0</td>\n",
              "      <td>F</td>\n",
              "      <td>сотрудник</td>\n",
              "      <td>0</td>\n",
              "      <td>253875</td>\n",
              "      <td>покупка жилья</td>\n",
              "      <td>большой доход &gt;203тыс.ед.</td>\n",
              "    </tr>\n",
              "    <tr>\n",
              "      <td>1</td>\n",
              "      <td>1</td>\n",
              "      <td>4024</td>\n",
              "      <td>36</td>\n",
              "      <td>среднее</td>\n",
              "      <td>1</td>\n",
              "      <td>женат / замужем</td>\n",
              "      <td>0</td>\n",
              "      <td>F</td>\n",
              "      <td>сотрудник</td>\n",
              "      <td>0</td>\n",
              "      <td>112080</td>\n",
              "      <td>приобретение автомобиля</td>\n",
              "      <td>средний дохд &lt;145тыс.ед.</td>\n",
              "    </tr>\n",
              "    <tr>\n",
              "      <td>2</td>\n",
              "      <td>0</td>\n",
              "      <td>5623</td>\n",
              "      <td>33</td>\n",
              "      <td>среднее</td>\n",
              "      <td>1</td>\n",
              "      <td>женат / замужем</td>\n",
              "      <td>0</td>\n",
              "      <td>M</td>\n",
              "      <td>сотрудник</td>\n",
              "      <td>0</td>\n",
              "      <td>145885</td>\n",
              "      <td>покупка жилья</td>\n",
              "      <td>высокий доход &lt;203тыс.ед.</td>\n",
              "    </tr>\n",
              "    <tr>\n",
              "      <td>3</td>\n",
              "      <td>3</td>\n",
              "      <td>4124</td>\n",
              "      <td>32</td>\n",
              "      <td>среднее</td>\n",
              "      <td>1</td>\n",
              "      <td>женат / замужем</td>\n",
              "      <td>0</td>\n",
              "      <td>M</td>\n",
              "      <td>сотрудник</td>\n",
              "      <td>0</td>\n",
              "      <td>267628</td>\n",
              "      <td>дополнительное образование</td>\n",
              "      <td>большой доход &gt;203тыс.ед.</td>\n",
              "    </tr>\n",
              "    <tr>\n",
              "      <td>4</td>\n",
              "      <td>0</td>\n",
              "      <td>14177</td>\n",
              "      <td>53</td>\n",
              "      <td>среднее</td>\n",
              "      <td>1</td>\n",
              "      <td>гражданский брак</td>\n",
              "      <td>1</td>\n",
              "      <td>F</td>\n",
              "      <td>пенсионер</td>\n",
              "      <td>0</td>\n",
              "      <td>158616</td>\n",
              "      <td>сыграть свадьбу</td>\n",
              "      <td>высокий доход &lt;203тыс.ед.</td>\n",
              "    </tr>\n",
              "  </tbody>\n",
              "</table>\n",
              "</div>"
            ],
            "text/plain": [
              "   children  days_employed  dob_years education  education_id  \\\n",
              "0         1           8437         42    высшее             0   \n",
              "1         1           4024         36   среднее             1   \n",
              "2         0           5623         33   среднее             1   \n",
              "3         3           4124         32   среднее             1   \n",
              "4         0          14177         53   среднее             1   \n",
              "\n",
              "      family_status  family_status_id gender income_type  debt  total_income  \\\n",
              "0   женат / замужем                 0      F   сотрудник     0        253875   \n",
              "1   женат / замужем                 0      F   сотрудник     0        112080   \n",
              "2   женат / замужем                 0      M   сотрудник     0        145885   \n",
              "3   женат / замужем                 0      M   сотрудник     0        267628   \n",
              "4  гражданский брак                 1      F   пенсионер     0        158616   \n",
              "\n",
              "                      purpose         group_total_income  \n",
              "0               покупка жилья  большой доход >203тыс.ед.  \n",
              "1     приобретение автомобиля   средний дохд <145тыс.ед.  \n",
              "2               покупка жилья  высокий доход <203тыс.ед.  \n",
              "3  дополнительное образование  большой доход >203тыс.ед.  \n",
              "4             сыграть свадьбу  высокий доход <203тыс.ед.  "
            ]
          },
          "execution_count": 60,
          "metadata": {},
          "output_type": "execute_result"
        }
      ],
      "source": [
        "df.head()"
      ]
    },
    {
      "cell_type": "code",
      "execution_count": null,
      "metadata": {
        "id": "aczJy4BZ9KvP",
        "outputId": "8ec83c08-e179-40b8-e389-5159e7595776"
      },
      "outputs": [
        {
          "data": {
            "text/plain": [
              "средний дохд <145тыс.ед.     6358\n",
              "высокий доход <203тыс.ед.    5492\n",
              "большой доход >203тыс.ед.    4841\n",
              "низкий доход <103тыс.ед.     4834\n",
              "Name: group_total_income, dtype: int64"
            ]
          },
          "execution_count": 61,
          "metadata": {},
          "output_type": "execute_result"
        }
      ],
      "source": [
        "df['group_total_income'].value_counts()"
      ]
    },
    {
      "cell_type": "markdown",
      "metadata": {
        "id": "vXkRARES9KvQ"
      },
      "source": [
        "<div class=\"alert alert-success\">\n",
        "\n",
        "### Комментарий ревьюера\n",
        "\n",
        "На самом деле тут очень качественный и профессиональный подход к выбору диапазонов категоризации (квартили). Супер!... после правильной работы с пропусками в данных по доходу категория \"не указали доход\" исчезнет\" (ну т.е. логика такая: ок что не указали- мы по другим указанным заемщиками признакам уго сформируем)\n",
        "</div>"
      ]
    },
    {
      "cell_type": "markdown",
      "metadata": {
        "id": "YWIEMwfL9KvQ"
      },
      "source": [
        "#### Категории по целям кредита"
      ]
    },
    {
      "cell_type": "code",
      "execution_count": null,
      "metadata": {
        "id": "9TopIyx79KvQ"
      },
      "outputs": [],
      "source": [
        "df.loc[df['purpose'].str.contains('автом', regex=False), 'purpose'] = 'автомобиль'\n",
        "df.loc[df['purpose'].str.contains('рем', regex=False), 'purpose'] = 'ремонт'\n",
        "df.loc[df['purpose'].str.contains('свадь', regex=False), 'purpose'] = 'свадьба'\n",
        "df.loc[df['purpose'].str.contains('жиль', regex=False), 'purpose'] = 'недвижимость'\n",
        "df.loc[df['purpose'].str.contains('образ', regex=False), 'purpose'] = 'образование'\n",
        "df.loc[df['purpose'].str.contains('недвиж', regex=False), 'purpose'] = 'недвижимость'"
      ]
    },
    {
      "cell_type": "code",
      "execution_count": null,
      "metadata": {
        "id": "_oLRNvZG9KvQ",
        "outputId": "66d81fb9-6453-483c-a613-8a6effc2ebd3"
      },
      "outputs": [
        {
          "data": {
            "text/plain": [
              "('Сумма по уникальным значениям в целях кредита',\n",
              " недвижимость    10228\n",
              " автомобиль       4315\n",
              " образование      4022\n",
              " свадьба          2348\n",
              " ремонт            612\n",
              " Name: purpose, dtype: int64)"
            ]
          },
          "execution_count": 63,
          "metadata": {},
          "output_type": "execute_result"
        }
      ],
      "source": [
        "'Сумма по уникальным значениям в целях кредита', df['purpose'].value_counts()"
      ]
    },
    {
      "cell_type": "markdown",
      "metadata": {
        "id": "O3dZVSz_9KvQ"
      },
      "source": [
        "<div class=\"alert alert-success\">\n",
        "\n",
        "### Комментарий ревьюера\n",
        "\n",
        "Да, все здорово.\n",
        "</div>"
      ]
    },
    {
      "cell_type": "markdown",
      "metadata": {
        "id": "CpQEsHLP9KvR"
      },
      "source": [
        "### Вывод"
      ]
    },
    {
      "cell_type": "markdown",
      "metadata": {
        "id": "wA0-aeA39KvR"
      },
      "source": [
        "Категоризация данных \"Доход\" и \"Цели\" позволяет провести дальнейший анализ и ответитть на поставленные вопросы .\n",
        "\n",
        "Чтобы пранализировать зависимость просрочки от дохода, доходы сгруппированы по диапазонам. До замены пустых значений распределение дохода было 25% = 103 тыс.ед. дохода; 50% =145тыс.ед.; 75% = 203 тыс.руб. \n",
        "\n",
        "Получено 4 группы с количеством уникальных значений по каждой: \n",
        "\n",
        "    средний дохд <145тыс.ед.     6358\n",
        "    высокий доход <203тыс.ед.    5492\n",
        "    большой доход >203тыс.ед.    4841\n",
        "    низкий доход <103тыс.ед.     4834\n",
        "Данные добавлены в новый столбец.\n",
        "\n",
        "Количество уникальных значениий по целям кредита: \n",
        "\n",
        "     недвижимость    10228\n",
        "     автомобиль       4315\n",
        "     образование      4022\n",
        "     свадьба          2348\n",
        "     ремонт            612\n",
        " \n",
        " \n"
      ]
    },
    {
      "cell_type": "markdown",
      "metadata": {
        "id": "ElLwFQ5G9KvR"
      },
      "source": [
        "<div class=\"alert alert-warning\">\n",
        "\n",
        "### Комментарий ревьюера\n",
        "\n",
        "очень рекомендую писать после каждого шага хорошие развернутые выводы\n",
        "</div>"
      ]
    },
    {
      "cell_type": "markdown",
      "metadata": {
        "id": "vMeT0fqX9KvR"
      },
      "source": [
        "### Шаг 3. Ответьте на вопросы"
      ]
    },
    {
      "cell_type": "markdown",
      "metadata": {
        "id": "HdwKpcMD9KvR"
      },
      "source": [
        "- Есть ли зависимость между наличием детей и возвратом кредита в срок?"
      ]
    },
    {
      "cell_type": "code",
      "execution_count": null,
      "metadata": {
        "id": "4JJtysWZ9KvS",
        "outputId": "aa631a85-03d9-4870-9e4d-b0ac4530ced1"
      },
      "outputs": [
        {
          "data": {
            "text/html": [
              "<div>\n",
              "<style scoped>\n",
              "    .dataframe tbody tr th:only-of-type {\n",
              "        vertical-align: middle;\n",
              "    }\n",
              "\n",
              "    .dataframe tbody tr th {\n",
              "        vertical-align: top;\n",
              "    }\n",
              "\n",
              "    .dataframe thead th {\n",
              "        text-align: right;\n",
              "    }\n",
              "</style>\n",
              "<table border=\"1\" class=\"dataframe\">\n",
              "  <thead>\n",
              "    <tr style=\"text-align: right;\">\n",
              "      <th></th>\n",
              "      <th>Наличие детей</th>\n",
              "      <th>Кол-во заемщиков</th>\n",
              "      <th>Просрочников</th>\n",
              "      <th>Вес просрочников</th>\n",
              "    </tr>\n",
              "  </thead>\n",
              "  <tbody>\n",
              "    <tr>\n",
              "      <td>0</td>\n",
              "      <td>0</td>\n",
              "      <td>14149</td>\n",
              "      <td>1063</td>\n",
              "      <td>7.5%</td>\n",
              "    </tr>\n",
              "    <tr>\n",
              "      <td>1</td>\n",
              "      <td>1</td>\n",
              "      <td>4865</td>\n",
              "      <td>445</td>\n",
              "      <td>9.1%</td>\n",
              "    </tr>\n",
              "    <tr>\n",
              "      <td>2</td>\n",
              "      <td>2</td>\n",
              "      <td>2055</td>\n",
              "      <td>194</td>\n",
              "      <td>9.4%</td>\n",
              "    </tr>\n",
              "    <tr>\n",
              "      <td>3</td>\n",
              "      <td>3</td>\n",
              "      <td>330</td>\n",
              "      <td>27</td>\n",
              "      <td>8.2%</td>\n",
              "    </tr>\n",
              "    <tr>\n",
              "      <td>4</td>\n",
              "      <td>4</td>\n",
              "      <td>41</td>\n",
              "      <td>4</td>\n",
              "      <td>9.8%</td>\n",
              "    </tr>\n",
              "    <tr>\n",
              "      <td>5</td>\n",
              "      <td>5</td>\n",
              "      <td>9</td>\n",
              "      <td>0</td>\n",
              "      <td>0.0%</td>\n",
              "    </tr>\n",
              "  </tbody>\n",
              "</table>\n",
              "</div>"
            ],
            "text/plain": [
              "   Наличие детей  Кол-во заемщиков  Просрочников Вес просрочников\n",
              "0              0             14149          1063             7.5%\n",
              "1              1              4865           445             9.1%\n",
              "2              2              2055           194             9.4%\n",
              "3              3               330            27             8.2%\n",
              "4              4                41             4             9.8%\n",
              "5              5                 9             0             0.0%"
            ]
          },
          "execution_count": 64,
          "metadata": {},
          "output_type": "execute_result"
        }
      ],
      "source": [
        "group_children = df.query('children!=20').groupby(['children'])['debt'].agg(['count', 'sum', lambda x: '{:.1%}'.format(x.mean())])\n",
        "group_children = group_children.reset_index()\n",
        "group_children.columns = ['Наличие детей', 'Кол-во заемщиков', 'Просрочников', 'Вес просрочников']\n",
        "group_children"
      ]
    },
    {
      "cell_type": "markdown",
      "metadata": {
        "id": "o8shaIKr9KvS"
      },
      "source": [
        "### Вывод"
      ]
    },
    {
      "cell_type": "markdown",
      "metadata": {
        "id": "dMZRKiqe9KvS"
      },
      "source": [
        "Наибольшее количество просрочников (1063 человека) не имеют детей, но положительным вяляется наименьший их удельный вес в этой группе.\n",
        "Самые массовые данные по трем группам \"Нет детей\", \"1 ребенок\", \"2 детей\": по категориям \"1 и 2 ребенка\" доля просрочников осталяет от 9,1% до 9,3%, но в целом негативным является больший вес просрочников с детьми над просрочниками без детей, более чем на 2%. Такми образом выявлена зависимость - наличие детей явно увеличивает расходы в семье и снижает ее кредитоспособность.\n",
        "\n",
        "Группа заемщиков, имеющая 3х детей более кредитоспособна (чем с 1 и 2 детьми), вероятно за счет большей ответственности в целом при планировании семьи.\n",
        "\n",
        "Группы с просрочников с 4мя и 5тью детьми относительно выборки малы, но отрицательным явлется факт роста по группе \"4\" доли просроченной задолженности.\n",
        "\n",
        "Группа заемщиков \"20 детей\" скорее всего артефакт, который исключен из анализируемой таблицы.\n",
        "\n",
        "Просрочники без детей находятся ниже среднего значения по всей просрочке 8,1%, а просрочники с детьми (независимо от количества) превышают среднее значение минимум на 1%.\n",
        "\n",
        "Заемщики с детьми с большей вероятностью не погасят кредит вовремя, чем заемщики без детей. \n",
        " "
      ]
    },
    {
      "cell_type": "markdown",
      "metadata": {
        "id": "LQ-Q78W_9KvS"
      },
      "source": [
        "<div class=\"alert alert-warning\">\n",
        "\n",
        "### Комментарий ревьюера\n",
        "\n",
        "Очень класно посчитано. \n",
        "- в выводах описал не все исследуемые категории а не только самых плохих/хороших по процентам.\n",
        "- в выводы было бы не плохо добавить твои собственные мысли по поводу полученных результатов\n",
        "- в самом начале проекта ты посчитал % просрочки по всем: было бы супер если бы ты в выводы добавил сравнение полученных значений с ним\n",
        "\n",
        "</div>"
      ]
    },
    {
      "cell_type": "markdown",
      "metadata": {
        "id": "5pQyARr99KvS"
      },
      "source": [
        "- Есть ли зависимость между семейным положением и возвратом кредита в срок?"
      ]
    },
    {
      "cell_type": "code",
      "execution_count": null,
      "metadata": {
        "id": "E8v4nfYc9KvT",
        "outputId": "18a84b65-07ba-48fa-ba08-7a3ce2ade652"
      },
      "outputs": [
        {
          "data": {
            "text/html": [
              "<div>\n",
              "<style scoped>\n",
              "    .dataframe tbody tr th:only-of-type {\n",
              "        vertical-align: middle;\n",
              "    }\n",
              "\n",
              "    .dataframe tbody tr th {\n",
              "        vertical-align: top;\n",
              "    }\n",
              "\n",
              "    .dataframe thead th {\n",
              "        text-align: right;\n",
              "    }\n",
              "</style>\n",
              "<table border=\"1\" class=\"dataframe\">\n",
              "  <thead>\n",
              "    <tr style=\"text-align: right;\">\n",
              "      <th></th>\n",
              "      <th>Семейное положение</th>\n",
              "      <th>Кол-во заемщиков</th>\n",
              "      <th>Просрочников</th>\n",
              "      <th>Вес просрочников</th>\n",
              "    </tr>\n",
              "  </thead>\n",
              "  <tbody>\n",
              "    <tr>\n",
              "      <td>0</td>\n",
              "      <td>Не женат / не замужем</td>\n",
              "      <td>2813</td>\n",
              "      <td>274</td>\n",
              "      <td>9.7%</td>\n",
              "    </tr>\n",
              "    <tr>\n",
              "      <td>1</td>\n",
              "      <td>в разводе</td>\n",
              "      <td>1195</td>\n",
              "      <td>85</td>\n",
              "      <td>7.1%</td>\n",
              "    </tr>\n",
              "    <tr>\n",
              "      <td>2</td>\n",
              "      <td>вдовец / вдова</td>\n",
              "      <td>960</td>\n",
              "      <td>63</td>\n",
              "      <td>6.6%</td>\n",
              "    </tr>\n",
              "    <tr>\n",
              "      <td>3</td>\n",
              "      <td>гражданский брак</td>\n",
              "      <td>4177</td>\n",
              "      <td>388</td>\n",
              "      <td>9.3%</td>\n",
              "    </tr>\n",
              "    <tr>\n",
              "      <td>4</td>\n",
              "      <td>женат / замужем</td>\n",
              "      <td>12380</td>\n",
              "      <td>931</td>\n",
              "      <td>7.5%</td>\n",
              "    </tr>\n",
              "  </tbody>\n",
              "</table>\n",
              "</div>"
            ],
            "text/plain": [
              "      Семейное положение  Кол-во заемщиков  Просрочников Вес просрочников\n",
              "0  Не женат / не замужем              2813           274             9.7%\n",
              "1              в разводе              1195            85             7.1%\n",
              "2         вдовец / вдова               960            63             6.6%\n",
              "3       гражданский брак              4177           388             9.3%\n",
              "4        женат / замужем             12380           931             7.5%"
            ]
          },
          "execution_count": 65,
          "metadata": {},
          "output_type": "execute_result"
        }
      ],
      "source": [
        "group_family_status = df.groupby(['family_status'])['debt'].agg(['count', 'sum', lambda x: '{:.1%}'.format(x.mean())])\n",
        "group_family_status = group_family_status.reset_index()\n",
        "group_family_status.columns = ['Семейное положение', 'Кол-во заемщиков', 'Просрочников', 'Вес просрочников']\n",
        "group_family_status"
      ]
    },
    {
      "cell_type": "markdown",
      "metadata": {
        "id": "XwOkt7cI9KvT"
      },
      "source": [
        "### Вывод"
      ]
    },
    {
      "cell_type": "markdown",
      "metadata": {
        "id": "Eo_Yibzf9KvT"
      },
      "source": [
        "Самые массовые группы:\n",
        "1) \"женат / замужем\" имеют наименьшую вероятность просрочки 7,5% в укрупненной группе. И положительным является, что это значение меньше среднего значения по всем просрочникам 8,1%;\n",
        "2) \"гражданский брак\" повышает риск просрочки до 9,3% (вероятно с принятием меньшей ответственности в целом) и негативно превышает среднее значение на 1%;  \n",
        "3) \"Не женат / не замужем\" имеет худший по казатель в укрупненной группе 9,7%\n",
        "\n",
        "Существенно лучше исполняют обязательства заемщики в статусах \"вдовец / вдова\" и \"в разводе\" 6,6% и 7,1% соответственно.\n",
        "\n",
        "Таком образом зависимость просрочки от семейного положения есть, чем более официальные отношения в семье, тем меньше риск просрочки. \n"
      ]
    },
    {
      "cell_type": "markdown",
      "metadata": {
        "id": "s1Ln9PNH9KvT"
      },
      "source": [
        "<div class=\"alert alert-warning\">\n",
        "\n",
        "### Комментарий ревьюера\n",
        "\n",
        "выводы\n",
        "\n",
        "</div>"
      ]
    },
    {
      "cell_type": "markdown",
      "metadata": {
        "id": "ZaIiLdVk9KvT"
      },
      "source": [
        "- Есть ли зависимость между уровнем дохода и возвратом кредита в срок?"
      ]
    },
    {
      "cell_type": "code",
      "execution_count": null,
      "metadata": {
        "id": "uinVZOU39KvU",
        "outputId": "2f107de8-7143-45cf-a385-8fe32e899393"
      },
      "outputs": [
        {
          "data": {
            "text/html": [
              "<div>\n",
              "<style scoped>\n",
              "    .dataframe tbody tr th:only-of-type {\n",
              "        vertical-align: middle;\n",
              "    }\n",
              "\n",
              "    .dataframe tbody tr th {\n",
              "        vertical-align: top;\n",
              "    }\n",
              "\n",
              "    .dataframe thead th {\n",
              "        text-align: right;\n",
              "    }\n",
              "</style>\n",
              "<table border=\"1\" class=\"dataframe\">\n",
              "  <thead>\n",
              "    <tr style=\"text-align: right;\">\n",
              "      <th></th>\n",
              "      <th>Доход</th>\n",
              "      <th>Кол-во заемщиков</th>\n",
              "      <th>Просрочников</th>\n",
              "      <th>Вес просрочников</th>\n",
              "    </tr>\n",
              "  </thead>\n",
              "  <tbody>\n",
              "    <tr>\n",
              "      <td>0</td>\n",
              "      <td>большой доход &gt;203тыс.ед.</td>\n",
              "      <td>4841</td>\n",
              "      <td>341</td>\n",
              "      <td>7.0%</td>\n",
              "    </tr>\n",
              "    <tr>\n",
              "      <td>1</td>\n",
              "      <td>высокий доход &lt;203тыс.ед.</td>\n",
              "      <td>5492</td>\n",
              "      <td>463</td>\n",
              "      <td>8.4%</td>\n",
              "    </tr>\n",
              "    <tr>\n",
              "      <td>2</td>\n",
              "      <td>низкий доход &lt;103тыс.ед.</td>\n",
              "      <td>4834</td>\n",
              "      <td>383</td>\n",
              "      <td>7.9%</td>\n",
              "    </tr>\n",
              "    <tr>\n",
              "      <td>3</td>\n",
              "      <td>средний дохд &lt;145тыс.ед.</td>\n",
              "      <td>6358</td>\n",
              "      <td>554</td>\n",
              "      <td>8.7%</td>\n",
              "    </tr>\n",
              "  </tbody>\n",
              "</table>\n",
              "</div>"
            ],
            "text/plain": [
              "                       Доход  Кол-во заемщиков  Просрочников Вес просрочников\n",
              "0  большой доход >203тыс.ед.              4841           341             7.0%\n",
              "1  высокий доход <203тыс.ед.              5492           463             8.4%\n",
              "2   низкий доход <103тыс.ед.              4834           383             7.9%\n",
              "3   средний дохд <145тыс.ед.              6358           554             8.7%"
            ]
          },
          "execution_count": 66,
          "metadata": {},
          "output_type": "execute_result"
        }
      ],
      "source": [
        "group_t_income = df.groupby(['group_total_income'])['debt'].agg(['count', 'sum', lambda x: '{:.1%}'.format(x.mean())])\n",
        "group_t_income = group_t_income.reset_index()\n",
        "group_t_income.columns = ['Доход', 'Кол-во заемщиков', 'Просрочников', 'Вес просрочников']\n",
        "group_t_income"
      ]
    },
    {
      "cell_type": "markdown",
      "metadata": {
        "id": "222Egktv9KvU"
      },
      "source": [
        "### Вывод"
      ]
    },
    {
      "cell_type": "markdown",
      "metadata": {
        "id": "zDu0W_rb9KvU"
      },
      "source": [
        "При относительно ровном распределении заемщиков по группам можно сделать вывод, что наибольшая кредитоспособность у группы с наибольшим доходом свыше 203тыс. (вес просрочки 7%, что на 1,1% лучше среднего показателя 8,1% по всем просрочникам). Вероятно бОльшее количество дохода позволяет лучше обслуживать кредиты.\n",
        "Далее в порядке убывания рейтинга: группа с низким доходом до 103тыс., 7,9%, но в пределах среднего значения. Вероятно эта группа лучше прогнозирует соотношение доходы/расходы.\n",
        "\n",
        "Группы со средним (8,7%) и высоким (8,4%) доходом негативно превышают среднее значение по просрочке.\n",
        "\n",
        "Зависимость дохода и своевременного погашения есть и чем выше или ниже доход, тем меньше вероятность просрочки."
      ]
    },
    {
      "cell_type": "markdown",
      "metadata": {
        "id": "W1KNqmkq9KvU"
      },
      "source": [
        "<div class=\"alert alert-warning\">\n",
        "\n",
        "### Комментарий ревьюера\n",
        "\n",
        "выводы\n",
        "\n",
        "</div>"
      ]
    },
    {
      "cell_type": "markdown",
      "metadata": {
        "id": "eU4f6WT39KvV"
      },
      "source": [
        "- Как разные цели кредита влияют на его возврат в срок?"
      ]
    },
    {
      "cell_type": "code",
      "execution_count": null,
      "metadata": {
        "id": "oT85EG279KvV",
        "outputId": "3632a47b-8f63-4a20-a06f-23021bb4acf0"
      },
      "outputs": [
        {
          "data": {
            "text/html": [
              "<div>\n",
              "<style scoped>\n",
              "    .dataframe tbody tr th:only-of-type {\n",
              "        vertical-align: middle;\n",
              "    }\n",
              "\n",
              "    .dataframe tbody tr th {\n",
              "        vertical-align: top;\n",
              "    }\n",
              "\n",
              "    .dataframe thead th {\n",
              "        text-align: right;\n",
              "    }\n",
              "</style>\n",
              "<table border=\"1\" class=\"dataframe\">\n",
              "  <thead>\n",
              "    <tr style=\"text-align: right;\">\n",
              "      <th></th>\n",
              "      <th>Цели кредита</th>\n",
              "      <th>Кол-во по целям</th>\n",
              "      <th>Кол-во с просрочкой</th>\n",
              "      <th>Вес просрочников</th>\n",
              "    </tr>\n",
              "  </thead>\n",
              "  <tbody>\n",
              "    <tr>\n",
              "      <td>0</td>\n",
              "      <td>автомобиль</td>\n",
              "      <td>4315</td>\n",
              "      <td>403</td>\n",
              "      <td>9.3%</td>\n",
              "    </tr>\n",
              "    <tr>\n",
              "      <td>1</td>\n",
              "      <td>недвижимость</td>\n",
              "      <td>10228</td>\n",
              "      <td>747</td>\n",
              "      <td>7.3%</td>\n",
              "    </tr>\n",
              "    <tr>\n",
              "      <td>2</td>\n",
              "      <td>образование</td>\n",
              "      <td>4022</td>\n",
              "      <td>370</td>\n",
              "      <td>9.2%</td>\n",
              "    </tr>\n",
              "    <tr>\n",
              "      <td>3</td>\n",
              "      <td>ремонт</td>\n",
              "      <td>612</td>\n",
              "      <td>35</td>\n",
              "      <td>5.7%</td>\n",
              "    </tr>\n",
              "    <tr>\n",
              "      <td>4</td>\n",
              "      <td>свадьба</td>\n",
              "      <td>2348</td>\n",
              "      <td>186</td>\n",
              "      <td>7.9%</td>\n",
              "    </tr>\n",
              "  </tbody>\n",
              "</table>\n",
              "</div>"
            ],
            "text/plain": [
              "   Цели кредита  Кол-во по целям  Кол-во с просрочкой Вес просрочников\n",
              "0    автомобиль             4315                  403             9.3%\n",
              "1  недвижимость            10228                  747             7.3%\n",
              "2   образование             4022                  370             9.2%\n",
              "3        ремонт              612                   35             5.7%\n",
              "4       свадьба             2348                  186             7.9%"
            ]
          },
          "execution_count": 67,
          "metadata": {},
          "output_type": "execute_result"
        }
      ],
      "source": [
        "purpose_group = df.groupby(['purpose'])['debt'].agg(['count', 'sum', lambda x: '{:.1%}'.format(x.mean())])\n",
        "purpose_group = purpose_group.reset_index()\n",
        "purpose_group.columns = ['Цели кредита', 'Кол-во по целям', 'Кол-во с просрочкой', 'Вес просрочников']\n",
        "purpose_group"
      ]
    },
    {
      "cell_type": "markdown",
      "metadata": {
        "id": "OnddIHyS9KvV"
      },
      "source": [
        "### Вывод"
      ]
    },
    {
      "cell_type": "markdown",
      "metadata": {
        "id": "YmNq4LRb9KvV"
      },
      "source": [
        "Наибольшее количество кредитов взято на приобретение недвижимости и имеет уровень просрочки 7,3%, что меньше среднего значения 8,1%, что является положительным моментом. Вероятно на улучшение качества исполенния обязательств по этой группе играет факт залога приобретаемого жилья.\n",
        "Наилучшим показателем по исполнению обязательств является группа с целью \"Ремонт жилья\" 5,7%, но она явлется самой маленькой по количеству выданных кредитов (612 раз). На показатель качества вероятно работает самая \"практичная\" статья расходов. \n",
        "\n",
        "В пределах средней величины группа с целью \"свадьба\" 7,9%, если проанализировать сроки кредита по договору и по факту погашения, то, вероятно, можно понять источники погашения. \n",
        "\n",
        "Худшие показатели кредитов с целями \"Образование\" (9,2%) и \"Автомобиль\" (9,3%). Оба превышают средний показатель просрочки 8,1% более чем на 1%. Увеличение риска по образованию вероятно связано с тем, что не могут устроится на работы с требуемым доходом после учебы. Показатель самой рисковой группы можно обосновать, тем, что автомобиль единственный демонстрируемый показатель статуса и его есть желание регулярно завышать. \n",
        "\n",
        "Выявлена зависимость уровня просрочки от целей кредита.\n"
      ]
    },
    {
      "cell_type": "markdown",
      "metadata": {
        "id": "2hfzRYsB9KvV"
      },
      "source": [
        "<div class=\"alert alert-warning\">\n",
        "\n",
        "### Комментарий ревьюера\n",
        "\n",
        "выводы\n",
        "\n",
        "</div>"
      ]
    },
    {
      "cell_type": "markdown",
      "metadata": {
        "id": "aG_gbX-i9KvW"
      },
      "source": [
        "### Шаг 4. Общий вывод"
      ]
    },
    {
      "cell_type": "markdown",
      "metadata": {
        "id": "lx6vhuxz9KvW"
      },
      "source": [
        "#### Цель: Провести анализ данных банка — статистики о платёжеспособности заемщиков, для построения модели кредитного скоринга —  системы, которая позволит экстраполировать фактические данные на способность потенциального заёмщика (со схожими характеристиками) вернуть кредит банку. \n",
        "\n",
        "    Данные представлены в CSV формате и содержат 21525 строк в 12 столбцах:\n",
        "    children — количество детей в семье\n",
        "    days_employed — общий трудовой стаж в днях\n",
        "    dob_years — возраст клиента в годах\n",
        "    education — уровень образования клиента\n",
        "    education_id — идентификатор уровня образования\n",
        "    family_status — семейное положение\n",
        "    family_status_id — идентификатор семейного положения\n",
        "    gender — пол клиента\n",
        "    income_type — тип занятости\n",
        "    debt — имел ли задолженность по возврату кредитов\n",
        "    total_income — ежемесячный доход\n",
        "    purpose — цель получения кредита\n",
        "\n",
        "#### По результатам анализа необходимо выявить: \n",
        "\n",
        "а) Есть ли зависимость между наличием детей и возвратом кредита в срок?\n",
        "б) Есть ли зависимость между семейным положением и возвратом кредита в срок?\n",
        "в) Есть ли зависимость между уровнем дохода и возвратом кредита в срок?\n",
        "г) Как разные цели кредита влияют на его возврат в срок?\n",
        "\n",
        "#### Для повышения качества анализа проведена оценка представленных данных.\n",
        "Выявленные некорректные данные прошли следующую предобработку:  \n",
        "\n",
        "1) заполнены пропуски по данным \"доходы\" средним значением по типу занятости (как наиболее зависимыми с доходом, из текущих данных). Применена универсальная конструкция по замене среднего с указанием связанного критерия \"Тип занятости\". \n",
        "\n",
        "2) данные \"Трудовой стаж\": выявленное множество отрицательных значений заменено на положительные значения (из предположения, что это ошибка знака). Выявлена группа некорректных значений в верхнем диапазоне максимума - произведено деление на 24 часа (из предположения, что данные указаны не в днях, а в часах. Пропуски заполнены средним значением по возрасту (как наиболее зависимыми со стажем, из текущих данных). Применена универсальная конструкция по замене среднего с указанием связанного критерия.\n",
        "\n",
        "3) артефакт (значение минус 1) по данным \"Дети\" исправлено на положительное значение. Предполагаю, что это был лишний знак.\n",
        "\n",
        "4) Выявлены нулевые значения dob_years' Нет групп с которыми можно сопоставить для заполнения по похожим значениям, остается как есть. Обратить внимание.\n",
        "\n",
        "5) Выявленные дробные значения, которые не влияют на точность анализа и мешают восприятию данных. Произведена замена типа хранения с float64 на int64 данных total_income, days_employed.\n",
        "\n",
        "6) Сделана замена дубликатов в данных \"Образование\" ('education'). Данные дублируются за счет различных регистров. Все написания приведены в нижний регистр (с заменой), за счет этого произведена четкая группировка.\n",
        "\n",
        "7) Для группировки по целям кредита устранена разрозненность написания одинаковой цели кредита разным набором слов. Выявленные составляющие каждой категории цели кредита. Причиной разрозненности данных может быть заполнение цели \"со слов заемщика\". В итоге четыре категории целей: 'недвижимость', 'ремонт', 'свадьба', 'образование'.\n",
        "\n",
        "8) Данные \"Доходы\". Чтобы проанализировать зависимость просрочки от дохода, доходы сгруппированы по диапазонам.:\n",
        "    средний доход <145тыс.ед.     6358 заемщиков\n",
        "    высокий доход <203тыс.ед.    5492\n",
        "    большой доход >203тыс.ед.    4841\n",
        "    низкий доход <103тыс.ед.     4834\n",
        "\n",
        "\n",
        "#### Зависимость между наличием детей и возвратом кредита в срок\n",
        "Заемщики с детьми с большей вероятностью не погасят кредит вовремя, чем заемщики без детей.\n",
        "\n",
        "Просрочники без детей находятся ниже среднего значения по всей просрочке 8,1%, а просрочники с детьми (независимо от количества) превышают среднее значение минимум на 1%.\n",
        "\n",
        "Наибольшее количество просрочников (1063 человека) не имеют детей, но положительным является наименьший их удельный вес в этой группе. Самые массовые данные по трем группам \"Нет детей\", \"1 ребенок\", \"2 детей\": по категориям \"1 и 2 ребенка\" доля просрочников состаляет от 9,1% до 9,3%, но в целом негативным является больший вес просрочников с детьми над просрочниками без детей, более чем на 2%. Таким образом выявлена зависимость - наличие детей явно увеличивает расходы в семье и снижает ее кредитоспособность.\n",
        "\n",
        "Группа заемщиков, имеющая 3х детей более кредитоспособна (чем с 1 и 2 детьми), вероятно за счет большей ответственности в целом при планировании семьи.\n",
        "\n",
        "Группы с просрочников с 4мя и 5тью детьми относительно выборки малы, но отрицательным является факт роста по группе \"4\" доли просроченной задолженности.\n",
        "\n",
        "#### Зависимость между семейным положением и возвратом кредита в срок\n",
        "Зависимость просрочки от семейного положения есть, чем более официальные отношения в семье, тем меньше риск просрочки.\n",
        "Самые массовые группы: 1) \"женат / замужем\" имеют наименьшую вероятность просрочки 7,5% в укрупненной группе. И положительным является, что это значение меньше среднего значения по всем просрочникам 8,1%; 2) \"гражданский брак\" повышает риск просрочки до 9,3% (вероятно с принятием меньшей ответственности в целом) и негативно превышает среднее значение на 1%; 3) \"Не женат / не замужем\" имеет худший показатель в укрупненной группе 9,7%\n",
        "\n",
        "#### Зависимость между уровнем дохода и возвратом кредита в срок\n",
        "Зависимость дохода и своевременного погашения есть и чем выше или ниже доход, тем меньше вероятность просрочки.\n",
        "При относительно ровном распределении заемщиков по группам можно сделать вывод, что наибольшая кредитоспособность у группы с наибольшим доходом свыше 203тыс. (вес просрочки 7%, что на 1,1% лучше среднего показателя 8,1% по всем просрочникам). Вероятно бОльшее количество дохода позволяет лучше обслуживать кредиты. Далее в порядке убывания рейтинга: группа с низким доходом до 103тыс., 7,9%, но в пределах среднего значения. Вероятно эта группа лучше прогнозирует соотношение доходы/расходы.\n",
        "\n",
        "Группы со средним (8,7%) и высоким (8,4%) доходом негативно превышают среднее значение по просрочке.\n",
        "\n",
        "#### Как разные цели кредита влияют на его возврат в срок\n",
        "Выявлена зависимость уровня просрочки от целей кредита.\n",
        "Наибольшее количество кредитов взято на приобретение недвижимости и имеет уровень просрочки 7,3%, что меньше среднего значения 8,1%, что является положительным моментом. Вероятно на улучшение качества исполнения обязательств по этой группе играет факт залога приобретаемого жилья. Наилучшим показателем по исполнению обязательств является группа с целью \"Ремонт жилья\" 5,7%, но она является самой маленькой по количеству выданных кредитов (612 раз). На показатель качества вероятно работает самая \"практичная\" статья расходов.\n",
        "\n",
        "В пределах средней величины группа с целью \"свадьба\" 7,9%, если проанализировать сроки кредита по договору и по факту погашения, то, вероятно, можно понять источники погашения.\n",
        "\n",
        "Худшие показатели кредитов с целями \"Образование\" (9,2%) и \"Автомобиль\" (9,3%). Оба превышают средний показатель просрочки 8,1% более чем на 1%. Увеличение риска по образованию вероятно связано с тем, что не могут устроится на работы с требуемым доходом после учебы. Показатель самой рисковой группы можно обосновать, тем, что автомобиль единственный демонстрируемый показатель статуса и его есть желание регулярно завышать.\n",
        "\n",
        "#### В итоге имеются точные данные выявленных характеристик заемщиков при которых понижается или повышается вероятность просрочки. Результаты анализа позволят разработать критерии скоринга и снизить риски банков при кредитовании.\n",
        "\n"
      ]
    },
    {
      "cell_type": "markdown",
      "metadata": {
        "id": "pqoNvapS9KvW"
      },
      "source": [
        "<div class=\"alert alert-danger\">\n",
        "\n",
        "### Комментарий ревьюера\n",
        "\n",
        "Полноценного итогового вывода, к сожалению, не обнаружено. В выводах хотелось бы видеть полное описание проекта и полезную информацию полученную в результате работы с данными. Теперь по его наполнению:\n",
        "\n",
        "- какая перед нами стояла цель?\n",
        "- какие данные были в нашем распоряжении?\n",
        "- как мы их обрабатывали/видоизменяли/работали с пропусками + рассуждения на тему появления пропусков/артефактов. Тут очень помогут твои промежуточные выводы.\n",
        "- общие цифры по всей таблице. Средний процент просрочки, размеры групп и т.п.\n",
        "- максимально подробное описание полученных зависимостей с рассуждениями.\n",
        "- и в самом конце \"какая цель стояла и выводы помогут эту цель достичь\"\n",
        "\n",
        "Это примерный план итогово вывода к любому аналитическому проекту. Заказчики в реальной работе очень редко смотрят сам проект, а читают только итоговый вывод (они не будут вводить сомостоятельно никакие значения и не будут запускать код). Поэтому так важно делать его максимально подробным и понятным. Предлагаю согласно плану выше изменить свой итоговый вывод и все будет отлично! \n",
        "</div>"
      ]
    },
    {
      "cell_type": "markdown",
      "metadata": {
        "id": "elgUzk9N9KvW"
      },
      "source": [
        "<div class=\"alert alert-success\">\n",
        "\n",
        "### Комментарий ревьюера 2\n",
        "\n",
        "Да, вот это выводище!)\n",
        "</div>"
      ]
    },
    {
      "cell_type": "markdown",
      "metadata": {
        "id": "I9QY4JiG9KvX"
      },
      "source": [
        "<div class=\"alert alert-warning\">\n",
        "\n",
        "### Комментарий ревьюера 2\n",
        "\n",
        "Не смотря на то, что в проекте остались не удаленными дубликаты, я принимаю проект. Всего 71 дубль - что намного меньше чем 1% от данных - значит они практически не искажают наши выводы. Но постарайся впредь быть внимательнее.\n",
        "</div>"
      ]
    },
    {
      "cell_type": "markdown",
      "metadata": {
        "id": "4Rv6VL_49KvX"
      },
      "source": [
        "### Чек-лист готовности проекта\n",
        "\n",
        "Поставьте 'x' в выполненных пунктах. Далее нажмите Shift+Enter."
      ]
    },
    {
      "cell_type": "markdown",
      "metadata": {
        "id": "dskoueps9KvX"
      },
      "source": [
        "- [x]  открыт файл;\n",
        "- [x]  файл изучен;\n",
        "- [x]  определены пропущенные значения;\n",
        "- [x]  заполнены пропущенные значения;\n",
        "- [x]  есть пояснение, какие пропущенные значения обнаружены;\n",
        "- [x]  описаны возможные причины появления пропусков в данных;\n",
        "- [x]  объяснено, по какому принципу заполнены пропуски;\n",
        "- [x]  заменен вещественный тип данных на целочисленный;\n",
        "- [x]  есть пояснение, какой метод используется для изменения типа данных и почему;\n",
        "- [x]  удалены дубликаты;\n",
        "- [x]  есть пояснение, какой метод используется для поиска и удаления дубликатов;\n",
        "- [x]  описаны возможные причины появления дубликатов в данных;\n",
        "- [x]  выделены леммы в значениях столбца с целями получения кредита;\n",
        "- [x]  описан процесс лемматизации;\n",
        "- [x]  данные категоризированы;\n",
        "- [x]  есть объяснение принципа категоризации данных;\n",
        "- [x]  есть ответ на вопрос: \"Есть ли зависимость между наличием детей и возвратом кредита в срок?\";\n",
        "- [x]  есть ответ на вопрос: \"Есть ли зависимость между семейным положением и возвратом кредита в срок?\";\n",
        "- [x]  есть ответ на вопрос: \"Есть ли зависимость между уровнем дохода и возвратом кредита в срок?\";\n",
        "- [x]  есть ответ на вопрос: \"Как разные цели кредита влияют на его возврат в срок?\";\n",
        "- [x]  в каждом этапе есть выводы;\n",
        "- [x]  есть общий вывод."
      ]
    }
  ],
  "metadata": {
    "kernelspec": {
      "display_name": "Python 3",
      "language": "python",
      "name": "python3"
    },
    "language_info": {
      "codemirror_mode": {
        "name": "ipython",
        "version": 3
      },
      "file_extension": ".py",
      "mimetype": "text/x-python",
      "name": "python",
      "nbconvert_exporter": "python",
      "pygments_lexer": "ipython3",
      "version": "3.7.6"
    },
    "colab": {
      "name": "N_book_принят.ipynb",
      "provenance": [],
      "include_colab_link": true
    }
  },
  "nbformat": 4,
  "nbformat_minor": 0
}